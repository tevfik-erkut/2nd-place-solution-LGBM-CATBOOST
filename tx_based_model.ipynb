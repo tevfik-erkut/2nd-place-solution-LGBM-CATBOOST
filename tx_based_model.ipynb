{
 "cells": [
  {
   "cell_type": "code",
   "execution_count": 1,
   "id": "76255687",
   "metadata": {},
   "outputs": [],
   "source": [
    "import numpy as np \n",
    "import pandas as pd \n",
    "import gc\n",
    "import os\n",
    "from lightgbm import LGBMClassifier\n",
    "import lightgbm as lgbm\n",
    "from sklearn.model_selection import KFold, StratifiedKFold\n",
    "from sklearn.metrics import roc_auc_score\n",
    "import optuna\n",
    "from optuna.visualization import plot_optimization_history, plot_param_importances\n",
    "import category_encoders as ce"
   ]
  },
  {
   "cell_type": "code",
   "execution_count": 2,
   "id": "dc7e0bf5",
   "metadata": {},
   "outputs": [
    {
     "name": "stderr",
     "output_type": "stream",
     "text": [
      "C:\\Users\\ANALYT~1\\AppData\\Local\\Temp/ipykernel_10188/3267574585.py:6: FutureWarning: In a future version of pandas all arguments of DataFrame.drop except for the argument 'labels' will be keyword-only\n",
      "  df = pd.read_csv(\"train.csv\"); test = pd.read_csv(\"test.csv\"); df = pd.concat([df, test]).drop([\"TXN_TRM\"],1)\n"
     ]
    }
   ],
   "source": [
    "df = pd.read_csv(\"train.csv\"); test = pd.read_csv(\"test.csv\"); df = pd.concat([df, test]).drop([\"TXN_TRM\"],1)\n",
    "df.rename(columns = {\"TARGET\": \"target\"}, inplace = True)\n",
    "df.loc[df.TXN_SOURCE == \"R\", \"TXN_SOURCE\"] = \"O\"\n",
    "df = df.sort_values([\"CST_NR\", \"DAY_OF_MONTH\"])\n",
    "df[\"tefo\"] = 1\n",
    "df[\"transaction_count_by_customer\"] = df.groupby(\"CST_NR\")[\"tefo\"].transform(\"cumsum\")\n",
    "df[\"transaction_count_by_card\"] = df.groupby(\"CC_NR\")[\"tefo\"].transform(\"cumsum\")"
   ]
  },
  {
   "cell_type": "code",
   "execution_count": 3,
   "id": "1400e725",
   "metadata": {},
   "outputs": [
    {
     "name": "stderr",
     "output_type": "stream",
     "text": [
      "C:\\Users\\ANALYT~1\\AppData\\Local\\Temp/ipykernel_10188/3470698812.py:39: FutureWarning: In a future version of pandas all arguments of DataFrame.drop except for the argument 'labels' will be keyword-only\n",
      "  df = df.loc[df.target.notnull()].drop([\"ID\"],1)\n"
     ]
    }
   ],
   "source": [
    "df[\"day_diff\"] = df.groupby(\"CST_NR\")[\"DAY_OF_MONTH\"].transform(\"diff\").fillna(df.DAY_OF_MONTH)\n",
    "df[\"day_diff_std\"] = df.groupby(\"CST_NR\")[\"day_diff\"].transform(\"std\").fillna(0)\n",
    "\n",
    "def calc_count(df, by, on):\n",
    "    agg = df.groupby(by)[on].agg(['count', 'mean'])\n",
    "    counts = agg['count']\n",
    "    means = agg['mean']\n",
    "    \n",
    "    return df[by].map(counts)\n",
    "\n",
    "#df['country_count'] = calc_count(df, by='COUNTRY', on='target')\n",
    "df['city_target_count'] = calc_count(df, by='CITY', on='target')\n",
    "df['mc_name_target_count'] = calc_count(df, by='MC_NAME', on='target')\n",
    "df['mc_id_target_count'] = calc_count(df, by='MC_ID', on='target')\n",
    "df['mcc_code_target_count'] = calc_count(df, by='MCC_CODE', on='target')\n",
    "\n",
    "df[\"total_amount_per_customer\"] = df.groupby([\"CST_NR\"])[\"TXN_AMNT\"].transform(\"cumsum\")\n",
    "df[\"money_change\"] = df.groupby([\"CST_NR\"])[\"total_amount_per_customer\"].transform(\"pct_change\")\n",
    "\n",
    "\n",
    "df[\"same_day_MCC_CODE_count\"] = df.groupby([\"CST_NR\", \"DAY_OF_MONTH\"])[\"MCC_CODE\"].transform(\"nunique\")\n",
    "#df[\"same_day_MC_NAME_count\"] = df.groupby([\"CST_NR\", \"DAY_OF_MONTH\"])[\"MC_NAME\"].transform(\"nunique\")\n",
    "#df[\"same_day_MC_ID_count\"] = df.groupby([\"CST_NR\", \"DAY_OF_MONTH\"])[\"MC_ID\"].transform(\"nunique\")\n",
    "df[\"same_day_CITY_count\"] = df.groupby([\"CST_NR\", \"DAY_OF_MONTH\"])[\"CITY\"].transform(\"nunique\")\n",
    "df[\"same_day_COUNTRY_count\"] = df.groupby([\"CST_NR\", \"DAY_OF_MONTH\"])[\"COUNTRY\"].transform(\"nunique\")\n",
    "\n",
    "df[\"hours_txn_time\"] = df.TXN_TIME.transform(lambda x : str(x)[:2] if len(str(x)) == 6 else str(x)[:1]).astype(int)\n",
    "\n",
    "df[\"time\"] = (df.DAY_OF_MONTH * 24) + (df.hours_txn_time)\n",
    "df[\"time_difference_between_tx\"] = df.groupby('CST_NR')['time'].transform(\"pct_change\")\n",
    "\n",
    "df.money_change.fillna(0, inplace = True)\n",
    "df.time_difference_between_tx.fillna(0, inplace = True)\n",
    "\n",
    "df[\"total_money_spent_std\"] = df.groupby([\"CST_NR\"])[\"TXN_AMNT\"].transform(\"std\")\n",
    "df[\"number_of_transactions_done_total\"] = df.groupby([\"CST_NR\"])[\"tefo\"].transform(\"sum\")\n",
    "\n",
    "test = df.loc[df.target.isnull()]\n",
    "df = df.loc[df.target.notnull()].drop([\"ID\"],1)"
   ]
  },
  {
   "cell_type": "code",
   "execution_count": 4,
   "id": "94214d9a",
   "metadata": {},
   "outputs": [],
   "source": [
    "cols_to_encode = df.select_dtypes(exclude=[np.number]).columns.to_list()"
   ]
  },
  {
   "cell_type": "code",
   "execution_count": 5,
   "id": "42d46826",
   "metadata": {},
   "outputs": [
    {
     "name": "stderr",
     "output_type": "stream",
     "text": [
      "C:\\Users\\ANALYT~1\\AppData\\Local\\Temp/ipykernel_10188/1621178712.py:11: FutureWarning: In a future version of pandas all arguments of DataFrame.drop except for the argument 'labels' will be keyword-only\n",
      "  test_transformed = ce_target_encoder.transform(test.drop([\"ID\"],1))\n"
     ]
    }
   ],
   "source": [
    "smoothing = 0.15\n",
    "train_y = df['target']\n",
    "oof = pd.DataFrame([])\n",
    "for tr_idx, oof_idx in StratifiedKFold(n_splits=5, random_state=33, shuffle=True).split(df, train_y):\n",
    "    ce_target_encoder = ce.TargetEncoder(cols = cols_to_encode, smoothing=smoothing).fit(df.iloc[tr_idx,\n",
    "                                                                                                 :], train_y.iloc[tr_idx])\n",
    "    oof = oof.append(ce_target_encoder.transform(df.iloc[oof_idx, :]), ignore_index=False)\n",
    "ce_target_encoder = ce.TargetEncoder(cols = cols_to_encode, smoothing=smoothing).fit(df, train_y)\n",
    "\n",
    "df = oof.sort_index()\n",
    "test_transformed = ce_target_encoder.transform(test.drop([\"ID\"],1))"
   ]
  },
  {
   "cell_type": "code",
   "execution_count": 14,
   "id": "dc259572",
   "metadata": {},
   "outputs": [
    {
     "name": "stderr",
     "output_type": "stream",
     "text": [
      "C:\\Users\\ANALYT~1\\AppData\\Local\\Temp/ipykernel_10188/2647171612.py:1: FutureWarning: In a future version of pandas all arguments of DataFrame.drop except for the argument 'labels' will be keyword-only\n",
      "  X = df.drop([\"target\"],1)\n"
     ]
    }
   ],
   "source": [
    "X = df.drop([\"target\"],1)\n",
    "Y = df.target"
   ]
  },
  {
   "cell_type": "code",
   "execution_count": 135,
   "id": "95bfb90f",
   "metadata": {},
   "outputs": [
    {
     "name": "stderr",
     "output_type": "stream",
     "text": [
      "C:\\Users\\ANALYT~1\\AppData\\Local\\Temp/ipykernel_10976/2128457751.py:7: FutureWarning: In a future version of pandas all arguments of DataFrame.drop except for the argument 'labels' will be keyword-only\n",
      "  X = df.drop([\"target\", i],1)\n"
     ]
    },
    {
     "name": "stdout",
     "output_type": "stream",
     "text": [
      "without TXN_TIME, valid auc is > 0.9316889166264541\n"
     ]
    },
    {
     "name": "stderr",
     "output_type": "stream",
     "text": [
      "C:\\Users\\ANALYT~1\\AppData\\Local\\Temp/ipykernel_10976/2128457751.py:7: FutureWarning: In a future version of pandas all arguments of DataFrame.drop except for the argument 'labels' will be keyword-only\n",
      "  X = df.drop([\"target\", i],1)\n"
     ]
    },
    {
     "name": "stdout",
     "output_type": "stream",
     "text": [
      "without TXN_AMNT, valid auc is > 0.9356269332942319\n",
      "TXN_AMNT atiliyoooooooor.\n"
     ]
    },
    {
     "name": "stderr",
     "output_type": "stream",
     "text": [
      "C:\\Users\\ANALYT~1\\AppData\\Local\\Temp/ipykernel_10976/2128457751.py:28: FutureWarning: In a future version of pandas all arguments of DataFrame.drop except for the argument 'labels' will be keyword-only\n",
      "  df.drop([i], 1, inplace= True)\n",
      "C:\\Users\\ANALYT~1\\AppData\\Local\\Temp/ipykernel_10976/2128457751.py:7: FutureWarning: In a future version of pandas all arguments of DataFrame.drop except for the argument 'labels' will be keyword-only\n",
      "  X = df.drop([\"target\", i],1)\n"
     ]
    },
    {
     "name": "stdout",
     "output_type": "stream",
     "text": [
      "without transaction_count_by_customer, valid auc is > 0.935579714309181\n"
     ]
    },
    {
     "name": "stderr",
     "output_type": "stream",
     "text": [
      "C:\\Users\\ANALYT~1\\AppData\\Local\\Temp/ipykernel_10976/2128457751.py:7: FutureWarning: In a future version of pandas all arguments of DataFrame.drop except for the argument 'labels' will be keyword-only\n",
      "  X = df.drop([\"target\", i],1)\n"
     ]
    },
    {
     "name": "stdout",
     "output_type": "stream",
     "text": [
      "without transaction_count_by_card, valid auc is > 0.9330780627136368\n"
     ]
    },
    {
     "name": "stderr",
     "output_type": "stream",
     "text": [
      "C:\\Users\\ANALYT~1\\AppData\\Local\\Temp/ipykernel_10976/2128457751.py:7: FutureWarning: In a future version of pandas all arguments of DataFrame.drop except for the argument 'labels' will be keyword-only\n",
      "  X = df.drop([\"target\", i],1)\n"
     ]
    },
    {
     "name": "stdout",
     "output_type": "stream",
     "text": [
      "without day_diff, valid auc is > 0.9330260329579035\n"
     ]
    },
    {
     "name": "stderr",
     "output_type": "stream",
     "text": [
      "C:\\Users\\ANALYT~1\\AppData\\Local\\Temp/ipykernel_10976/2128457751.py:7: FutureWarning: In a future version of pandas all arguments of DataFrame.drop except for the argument 'labels' will be keyword-only\n",
      "  X = df.drop([\"target\", i],1)\n"
     ]
    },
    {
     "name": "stdout",
     "output_type": "stream",
     "text": [
      "without day_diff_std, valid auc is > 0.9342714365029773\n"
     ]
    },
    {
     "name": "stderr",
     "output_type": "stream",
     "text": [
      "C:\\Users\\ANALYT~1\\AppData\\Local\\Temp/ipykernel_10976/2128457751.py:7: FutureWarning: In a future version of pandas all arguments of DataFrame.drop except for the argument 'labels' will be keyword-only\n",
      "  X = df.drop([\"target\", i],1)\n"
     ]
    },
    {
     "name": "stdout",
     "output_type": "stream",
     "text": [
      "without country_count, valid auc is > 0.93969676074499\n",
      "country_count atiliyoooooooor.\n"
     ]
    },
    {
     "name": "stderr",
     "output_type": "stream",
     "text": [
      "C:\\Users\\ANALYT~1\\AppData\\Local\\Temp/ipykernel_10976/2128457751.py:28: FutureWarning: In a future version of pandas all arguments of DataFrame.drop except for the argument 'labels' will be keyword-only\n",
      "  df.drop([i], 1, inplace= True)\n",
      "C:\\Users\\ANALYT~1\\AppData\\Local\\Temp/ipykernel_10976/2128457751.py:7: FutureWarning: In a future version of pandas all arguments of DataFrame.drop except for the argument 'labels' will be keyword-only\n",
      "  X = df.drop([\"target\", i],1)\n"
     ]
    },
    {
     "name": "stdout",
     "output_type": "stream",
     "text": [
      "without city_target_count, valid auc is > 0.939298422575362\n"
     ]
    },
    {
     "name": "stderr",
     "output_type": "stream",
     "text": [
      "C:\\Users\\ANALYT~1\\AppData\\Local\\Temp/ipykernel_10976/2128457751.py:7: FutureWarning: In a future version of pandas all arguments of DataFrame.drop except for the argument 'labels' will be keyword-only\n",
      "  X = df.drop([\"target\", i],1)\n"
     ]
    },
    {
     "name": "stdout",
     "output_type": "stream",
     "text": [
      "without mc_name_target_count, valid auc is > 0.9355162347464591\n"
     ]
    },
    {
     "name": "stderr",
     "output_type": "stream",
     "text": [
      "C:\\Users\\ANALYT~1\\AppData\\Local\\Temp/ipykernel_10976/2128457751.py:7: FutureWarning: In a future version of pandas all arguments of DataFrame.drop except for the argument 'labels' will be keyword-only\n",
      "  X = df.drop([\"target\", i],1)\n"
     ]
    },
    {
     "name": "stdout",
     "output_type": "stream",
     "text": [
      "without mc_id_target_count, valid auc is > 0.9379075081089754\n"
     ]
    },
    {
     "name": "stderr",
     "output_type": "stream",
     "text": [
      "C:\\Users\\ANALYT~1\\AppData\\Local\\Temp/ipykernel_10976/2128457751.py:7: FutureWarning: In a future version of pandas all arguments of DataFrame.drop except for the argument 'labels' will be keyword-only\n",
      "  X = df.drop([\"target\", i],1)\n"
     ]
    },
    {
     "name": "stdout",
     "output_type": "stream",
     "text": [
      "without mcc_code_target_count, valid auc is > 0.9362207183640809\n"
     ]
    },
    {
     "name": "stderr",
     "output_type": "stream",
     "text": [
      "C:\\Users\\ANALYT~1\\AppData\\Local\\Temp/ipykernel_10976/2128457751.py:7: FutureWarning: In a future version of pandas all arguments of DataFrame.drop except for the argument 'labels' will be keyword-only\n",
      "  X = df.drop([\"target\", i],1)\n"
     ]
    },
    {
     "name": "stdout",
     "output_type": "stream",
     "text": [
      "without total_amount_per_customer, valid auc is > 0.9301375559036293\n"
     ]
    },
    {
     "name": "stderr",
     "output_type": "stream",
     "text": [
      "C:\\Users\\ANALYT~1\\AppData\\Local\\Temp/ipykernel_10976/2128457751.py:7: FutureWarning: In a future version of pandas all arguments of DataFrame.drop except for the argument 'labels' will be keyword-only\n",
      "  X = df.drop([\"target\", i],1)\n"
     ]
    },
    {
     "name": "stdout",
     "output_type": "stream",
     "text": [
      "without money_change, valid auc is > 0.9358105590775191\n"
     ]
    },
    {
     "name": "stderr",
     "output_type": "stream",
     "text": [
      "C:\\Users\\ANALYT~1\\AppData\\Local\\Temp/ipykernel_10976/2128457751.py:7: FutureWarning: In a future version of pandas all arguments of DataFrame.drop except for the argument 'labels' will be keyword-only\n",
      "  X = df.drop([\"target\", i],1)\n"
     ]
    },
    {
     "name": "stdout",
     "output_type": "stream",
     "text": [
      "without same_day_MCC_CODE_count, valid auc is > 0.9370060690532955\n"
     ]
    },
    {
     "name": "stderr",
     "output_type": "stream",
     "text": [
      "C:\\Users\\ANALYT~1\\AppData\\Local\\Temp/ipykernel_10976/2128457751.py:7: FutureWarning: In a future version of pandas all arguments of DataFrame.drop except for the argument 'labels' will be keyword-only\n",
      "  X = df.drop([\"target\", i],1)\n"
     ]
    },
    {
     "name": "stdout",
     "output_type": "stream",
     "text": [
      "without same_day_city_count, valid auc is > 0.9351347156423901\n"
     ]
    },
    {
     "name": "stderr",
     "output_type": "stream",
     "text": [
      "C:\\Users\\ANALYT~1\\AppData\\Local\\Temp/ipykernel_10976/2128457751.py:7: FutureWarning: In a future version of pandas all arguments of DataFrame.drop except for the argument 'labels' will be keyword-only\n",
      "  X = df.drop([\"target\", i],1)\n"
     ]
    },
    {
     "name": "stdout",
     "output_type": "stream",
     "text": [
      "without same_day_countries_count, valid auc is > 0.9328241172946529\n"
     ]
    },
    {
     "name": "stderr",
     "output_type": "stream",
     "text": [
      "C:\\Users\\ANALYT~1\\AppData\\Local\\Temp/ipykernel_10976/2128457751.py:7: FutureWarning: In a future version of pandas all arguments of DataFrame.drop except for the argument 'labels' will be keyword-only\n",
      "  X = df.drop([\"target\", i],1)\n"
     ]
    },
    {
     "name": "stdout",
     "output_type": "stream",
     "text": [
      "without hours_txn_time, valid auc is > 0.9341794746144856\n"
     ]
    },
    {
     "name": "stderr",
     "output_type": "stream",
     "text": [
      "C:\\Users\\ANALYT~1\\AppData\\Local\\Temp/ipykernel_10976/2128457751.py:7: FutureWarning: In a future version of pandas all arguments of DataFrame.drop except for the argument 'labels' will be keyword-only\n",
      "  X = df.drop([\"target\", i],1)\n"
     ]
    },
    {
     "name": "stdout",
     "output_type": "stream",
     "text": [
      "without time, valid auc is > 0.9311513450721215\n"
     ]
    },
    {
     "name": "stderr",
     "output_type": "stream",
     "text": [
      "C:\\Users\\ANALYT~1\\AppData\\Local\\Temp/ipykernel_10976/2128457751.py:7: FutureWarning: In a future version of pandas all arguments of DataFrame.drop except for the argument 'labels' will be keyword-only\n",
      "  X = df.drop([\"target\", i],1)\n"
     ]
    },
    {
     "name": "stdout",
     "output_type": "stream",
     "text": [
      "without time_difference_between_tx, valid auc is > 0.9355243945355689\n"
     ]
    },
    {
     "name": "stderr",
     "output_type": "stream",
     "text": [
      "C:\\Users\\ANALYT~1\\AppData\\Local\\Temp/ipykernel_10976/2128457751.py:7: FutureWarning: In a future version of pandas all arguments of DataFrame.drop except for the argument 'labels' will be keyword-only\n",
      "  X = df.drop([\"target\", i],1)\n"
     ]
    },
    {
     "name": "stdout",
     "output_type": "stream",
     "text": [
      "without customers_last_transaction, valid auc is > 0.9408321661822183\n",
      "customers_last_transaction atiliyoooooooor.\n"
     ]
    },
    {
     "name": "stderr",
     "output_type": "stream",
     "text": [
      "C:\\Users\\ANALYT~1\\AppData\\Local\\Temp/ipykernel_10976/2128457751.py:28: FutureWarning: In a future version of pandas all arguments of DataFrame.drop except for the argument 'labels' will be keyword-only\n",
      "  df.drop([i], 1, inplace= True)\n",
      "C:\\Users\\ANALYT~1\\AppData\\Local\\Temp/ipykernel_10976/2128457751.py:7: FutureWarning: In a future version of pandas all arguments of DataFrame.drop except for the argument 'labels' will be keyword-only\n",
      "  X = df.drop([\"target\", i],1)\n"
     ]
    },
    {
     "name": "stdout",
     "output_type": "stream",
     "text": [
      "without CST_NR, valid auc is > 0.9430039356554847\n",
      "CST_NR atiliyoooooooor.\n"
     ]
    },
    {
     "name": "stderr",
     "output_type": "stream",
     "text": [
      "C:\\Users\\ANALYT~1\\AppData\\Local\\Temp/ipykernel_10976/2128457751.py:28: FutureWarning: In a future version of pandas all arguments of DataFrame.drop except for the argument 'labels' will be keyword-only\n",
      "  df.drop([i], 1, inplace= True)\n",
      "C:\\Users\\ANALYT~1\\AppData\\Local\\Temp/ipykernel_10976/2128457751.py:7: FutureWarning: In a future version of pandas all arguments of DataFrame.drop except for the argument 'labels' will be keyword-only\n",
      "  X = df.drop([\"target\", i],1)\n"
     ]
    },
    {
     "name": "stdout",
     "output_type": "stream",
     "text": [
      "without CC_NR, valid auc is > 0.9243442369024393\n"
     ]
    },
    {
     "name": "stderr",
     "output_type": "stream",
     "text": [
      "C:\\Users\\ANALYT~1\\AppData\\Local\\Temp/ipykernel_10976/2128457751.py:7: FutureWarning: In a future version of pandas all arguments of DataFrame.drop except for the argument 'labels' will be keyword-only\n",
      "  X = df.drop([\"target\", i],1)\n"
     ]
    },
    {
     "name": "stdout",
     "output_type": "stream",
     "text": [
      "without TXN_ENTRY, valid auc is > 0.9387608405665532\n"
     ]
    },
    {
     "name": "stderr",
     "output_type": "stream",
     "text": [
      "C:\\Users\\ANALYT~1\\AppData\\Local\\Temp/ipykernel_10976/2128457751.py:7: FutureWarning: In a future version of pandas all arguments of DataFrame.drop except for the argument 'labels' will be keyword-only\n",
      "  X = df.drop([\"target\", i],1)\n"
     ]
    },
    {
     "name": "stdout",
     "output_type": "stream",
     "text": [
      "without TXN_SOURCE, valid auc is > 0.9352614517446435\n"
     ]
    },
    {
     "name": "stderr",
     "output_type": "stream",
     "text": [
      "C:\\Users\\ANALYT~1\\AppData\\Local\\Temp/ipykernel_10976/2128457751.py:7: FutureWarning: In a future version of pandas all arguments of DataFrame.drop except for the argument 'labels' will be keyword-only\n",
      "  X = df.drop([\"target\", i],1)\n"
     ]
    },
    {
     "name": "stdout",
     "output_type": "stream",
     "text": [
      "without CITY, valid auc is > 0.9423045403659198\n"
     ]
    },
    {
     "name": "stderr",
     "output_type": "stream",
     "text": [
      "C:\\Users\\ANALYT~1\\AppData\\Local\\Temp/ipykernel_10976/2128457751.py:7: FutureWarning: In a future version of pandas all arguments of DataFrame.drop except for the argument 'labels' will be keyword-only\n",
      "  X = df.drop([\"target\", i],1)\n"
     ]
    },
    {
     "name": "stdout",
     "output_type": "stream",
     "text": [
      "without COUNTRY, valid auc is > 0.9346126210859194\n"
     ]
    },
    {
     "name": "stderr",
     "output_type": "stream",
     "text": [
      "C:\\Users\\ANALYT~1\\AppData\\Local\\Temp/ipykernel_10976/2128457751.py:7: FutureWarning: In a future version of pandas all arguments of DataFrame.drop except for the argument 'labels' will be keyword-only\n",
      "  X = df.drop([\"target\", i],1)\n"
     ]
    },
    {
     "name": "stdout",
     "output_type": "stream",
     "text": [
      "without MC_NAME, valid auc is > 0.9264446508765337\n"
     ]
    },
    {
     "name": "stderr",
     "output_type": "stream",
     "text": [
      "C:\\Users\\ANALYT~1\\AppData\\Local\\Temp/ipykernel_10976/2128457751.py:7: FutureWarning: In a future version of pandas all arguments of DataFrame.drop except for the argument 'labels' will be keyword-only\n",
      "  X = df.drop([\"target\", i],1)\n"
     ]
    },
    {
     "name": "stdout",
     "output_type": "stream",
     "text": [
      "without MC_ID, valid auc is > 0.9373127651237716\n"
     ]
    },
    {
     "name": "stderr",
     "output_type": "stream",
     "text": [
      "C:\\Users\\ANALYT~1\\AppData\\Local\\Temp/ipykernel_10976/2128457751.py:7: FutureWarning: In a future version of pandas all arguments of DataFrame.drop except for the argument 'labels' will be keyword-only\n",
      "  X = df.drop([\"target\", i],1)\n"
     ]
    },
    {
     "name": "stdout",
     "output_type": "stream",
     "text": [
      "without MCC_CODE, valid auc is > 0.9386906735398197\n"
     ]
    }
   ],
   "source": [
    "auc = 0\n",
    "best = 0.9342\n",
    "for i in df.columns:\n",
    "    if i in [\"target\"]:\n",
    "        continue\n",
    "    else:\n",
    "        X = df.drop([\"target\", i],1)\n",
    "        Y = df.target\n",
    "        y = Y\n",
    "        skf = StratifiedKFold(n_splits=5, random_state = 5451, shuffle = True)\n",
    "        scores = []\n",
    "        tr_scores = []\n",
    "        for train_index, test_index in skf.split(X, y):\n",
    "            train_df = X.loc[train_index].reset_index(drop = True)\n",
    "            valid_df = X.loc[test_index].reset_index(drop = True)\n",
    "            train_y, valid_y = y[train_index], y[test_index]\n",
    "\n",
    "            model = lgbm.LGBMClassifier(metric = \"auc\", objective = \"binary\", random_state = 33)\n",
    "            model.fit(train_df,train_y)\n",
    "            predictions = model.predict_proba(valid_df)[:,1]\n",
    "            scores.append(roc_auc_score(valid_y, predictions))\n",
    "\n",
    "            train_preds = model.predict_proba(train_df)[:,1]\n",
    "            tr_scores.append(roc_auc_score(train_y, train_preds))\n",
    "        print(f\"without {i}, valid auc is > {np.mean(scores)}\")\n",
    "        if np.mean(scores) > best:\n",
    "            print(f\"{i} atiliyoooooooooooorrrrrr.\")\n",
    "            df.drop([i], 1, inplace= True)\n",
    "            best = np.mean(scores)\n",
    "        else:\n",
    "            continue"
   ]
  },
  {
   "cell_type": "code",
   "execution_count": 48,
   "id": "3182fc80",
   "metadata": {},
   "outputs": [
    {
     "name": "stderr",
     "output_type": "stream",
     "text": [
      "C:\\Users\\ANALYT~1\\AppData\\Local\\Temp/ipykernel_9380/3680766252.py:1: FutureWarning: In a future version of pandas all arguments of DataFrame.drop except for the argument 'labels' will be keyword-only\n",
      "  X = df.drop([\"target\"],1)\n"
     ]
    }
   ],
   "source": [
    "X = df.drop([\"target\"],1)\n",
    "Y = df.target\n",
    "y = Y"
   ]
  },
  {
   "cell_type": "code",
   "execution_count": 49,
   "id": "34b73a31",
   "metadata": {},
   "outputs": [
    {
     "name": "stderr",
     "output_type": "stream",
     "text": [
      "C:\\Users\\ANALYT~1\\AppData\\Local\\Temp/ipykernel_9380/3691664042.py:5: FutureWarning: In a future version of pandas all arguments of DataFrame.drop except for the argument 'labels' will be keyword-only\n",
      "  X  = df.drop([\"target\"], 1).reset_index(drop=True)\n",
      "C:\\Users\\ANALYT~1\\AppData\\Local\\Temp/ipykernel_9380/3691664042.py:5: FutureWarning: In a future version of pandas all arguments of DataFrame.drop except for the argument 'labels' will be keyword-only\n",
      "  X  = df.drop([\"target\"], 1).reset_index(drop=True)\n",
      "C:\\Users\\ANALYT~1\\AppData\\Local\\Temp/ipykernel_9380/3691664042.py:5: FutureWarning: In a future version of pandas all arguments of DataFrame.drop except for the argument 'labels' will be keyword-only\n",
      "  X  = df.drop([\"target\"], 1).reset_index(drop=True)\n",
      "C:\\Users\\ANALYT~1\\AppData\\Local\\Temp/ipykernel_9380/3691664042.py:5: FutureWarning: In a future version of pandas all arguments of DataFrame.drop except for the argument 'labels' will be keyword-only\n",
      "  X  = df.drop([\"target\"], 1).reset_index(drop=True)\n",
      "C:\\Users\\ANALYT~1\\AppData\\Local\\Temp/ipykernel_9380/3691664042.py:5: FutureWarning: In a future version of pandas all arguments of DataFrame.drop except for the argument 'labels' will be keyword-only\n",
      "  X  = df.drop([\"target\"], 1).reset_index(drop=True)\n"
     ]
    },
    {
     "name": "stdout",
     "output_type": "stream",
     "text": [
      "valid auc is > 0.9677577023163091\n"
     ]
    }
   ],
   "source": [
    "skf = StratifiedKFold(n_splits=5, random_state = 545, shuffle = True)\n",
    "scores = []\n",
    "tr_scores = []\n",
    "for train_index, test_index in skf.split(X, y):\n",
    "    X  = df.drop([\"target\"], 1).reset_index(drop=True)\n",
    "    y = df.target.reset_index(drop=True)\n",
    "    train_df = X.loc[train_index].reset_index(drop = True)\n",
    "    valid_df = X.loc[test_index].reset_index(drop = True)\n",
    "    train_y, valid_y = y[train_index], y[test_index]\n",
    "\n",
    "    model = lgbm.LGBMClassifier(**{'reg_alpha': 7.714425597409395,\n",
    " 'reg_lambda': 5.663580655710298,\n",
    " 'num_leaves': 5,\n",
    " 'min_child_samples': 81,\n",
    " 'max_depth': 19,\n",
    " 'colsample_bytree': 0.15871987715954747,\n",
    " 'cat_smooth': 16,\n",
    " 'learning_rate': 0.005,\n",
    " 'metric': 'auc',\n",
    " 'objective': 'binary',\n",
    " 'cat_l2': 7,\n",
    " 'min_data_per_group': 116})\n",
    "    model.fit(train_df,train_y)\n",
    "    predictions = model.predict_proba(valid_df)[:,1]\n",
    "    scores.append(roc_auc_score(valid_y, predictions))\n",
    "\n",
    "    train_preds = model.predict_proba(train_df)[:,1]\n",
    "    tr_scores.append(roc_auc_score(train_y, train_preds))\n",
    "print(f\"valid auc is > {np.mean(scores)}\")\n"
   ]
  },
  {
   "cell_type": "code",
   "execution_count": 50,
   "id": "d3df9472",
   "metadata": {},
   "outputs": [
    {
     "name": "stdout",
     "output_type": "stream",
     "text": [
      "Train AUC score: 0.9684 Valid AUC score: 0.9678, STD: 0.0023\n"
     ]
    }
   ],
   "source": [
    "print(\"Train AUC score: {:.4f} Valid AUC score: {:.4f}, STD: {:.4f}\".format(\n",
    "    np.mean(tr_scores), np.mean(scores), np.std(scores)\n",
    "))  #0.15 with hours txn time included as an integer plus dropping mc_id_count and mc_name_count\n",
    "#plus adding 2 additional features "
   ]
  },
  {
   "cell_type": "code",
   "execution_count": 72,
   "id": "6a474478",
   "metadata": {},
   "outputs": [
    {
     "name": "stdout",
     "output_type": "stream",
     "text": [
      "Train AUC score: 0.9909 Valid AUC score: 0.9886, STD: 0.0018\n"
     ]
    }
   ],
   "source": [
    "print(\"Train AUC score: {:.4f} Valid AUC score: {:.4f}, STD: {:.4f}\".format(\n",
    "    np.mean(tr_scores), np.mean(scores), np.std(scores)\n",
    "))  #0.15 with hours txn time included as an integer plus dropping mc_id_count and mc_name_count\n",
    "#plus adding 2 additional features "
   ]
  },
  {
   "cell_type": "code",
   "execution_count": 64,
   "id": "40809a86",
   "metadata": {},
   "outputs": [
    {
     "name": "stdout",
     "output_type": "stream",
     "text": [
      "Train AUC score: 0.9853 Valid AUC score: 0.9841, STD: 0.0023\n"
     ]
    }
   ],
   "source": [
    "print(\"Train AUC score: {:.4f} Valid AUC score: {:.4f}, STD: {:.4f}\".format(\n",
    "    np.mean(tr_scores), np.mean(scores), np.std(scores)\n",
    "))  #0.15 with hours txn time included as an integer plus dropping mc_id_count and mc_name_count\n",
    "#plus adding 2 additional features "
   ]
  },
  {
   "cell_type": "code",
   "execution_count": 86,
   "id": "6d85e023",
   "metadata": {},
   "outputs": [
    {
     "name": "stdout",
     "output_type": "stream",
     "text": [
      "Train AUC score: 0.9686 Valid AUC score: 0.9342, STD: 0.0056\n"
     ]
    }
   ],
   "source": [
    "print(\"Train AUC score: {:.4f} Valid AUC score: {:.4f}, STD: {:.4f}\".format(\n",
    "    np.mean(tr_scores), np.mean(scores), np.std(scores)\n",
    "))  #0.15 with hours txn time included as an integer plus dropping mc_id_count and mc_name_count"
   ]
  },
  {
   "cell_type": "code",
   "execution_count": 76,
   "id": "d42b5bca",
   "metadata": {},
   "outputs": [
    {
     "name": "stdout",
     "output_type": "stream",
     "text": [
      "Train AUC score: 0.9712 Valid AUC score: 0.9359, STD: 0.0076\n"
     ]
    }
   ],
   "source": [
    "print(\"Train AUC score: {:.4f} Valid AUC score: {:.4f}, STD: {:.4f}\".format(\n",
    "    np.mean(tr_scores), np.mean(scores), np.std(scores)\n",
    "))  #0.1 with hours txn time included as an integer plus dropping mc_id_count and mc_name_count"
   ]
  },
  {
   "cell_type": "code",
   "execution_count": 66,
   "id": "2a2cfacb",
   "metadata": {},
   "outputs": [
    {
     "name": "stdout",
     "output_type": "stream",
     "text": [
      "Train AUC score: 0.9735 Valid AUC score: 0.9438, STD: 0.0075\n"
     ]
    }
   ],
   "source": [
    "print(\"Train AUC score: {:.4f} Valid AUC score: {:.4f}, STD: {:.4f}\".format(\n",
    "    np.mean(tr_scores), np.mean(scores), np.std(scores)\n",
    "))  #0.08 with hours txn time included as an integer plus dropping mc_id_count and mc_name_count"
   ]
  },
  {
   "cell_type": "code",
   "execution_count": 45,
   "id": "44b5b488",
   "metadata": {},
   "outputs": [
    {
     "name": "stdout",
     "output_type": "stream",
     "text": [
      "Train AUC score: 0.9705 Valid AUC score: 0.9355, STD: 0.0058\n"
     ]
    }
   ],
   "source": [
    "print(\"Train AUC score: {:.4f} Valid AUC score: {:.4f}, STD: {:.4f}\".format(\n",
    "    np.mean(tr_scores), np.mean(scores), np.std(scores)\n",
    "))  #0.09 with hours txn time included as an integer"
   ]
  },
  {
   "cell_type": "code",
   "execution_count": 35,
   "id": "a955a35a",
   "metadata": {},
   "outputs": [
    {
     "name": "stdout",
     "output_type": "stream",
     "text": [
      "Train AUC score: 0.9754 Valid AUC score: 0.9431, STD: 0.0082\n"
     ]
    }
   ],
   "source": [
    "print(\"Train AUC score: {:.4f} Valid AUC score: {:.4f}, STD: {:.4f}\".format(\n",
    "    np.mean(tr_scores), np.mean(scores), np.std(scores)\n",
    "))  #0.08 with hours txn time included as an integer"
   ]
  },
  {
   "cell_type": "code",
   "execution_count": 25,
   "id": "88bb8d99",
   "metadata": {},
   "outputs": [
    {
     "name": "stdout",
     "output_type": "stream",
     "text": [
      "Train AUC score: 0.9726 Valid AUC score: 0.9369, STD: 0.0108\n"
     ]
    }
   ],
   "source": [
    "print(\"Train AUC score: {:.4f} Valid AUC score: {:.4f}, STD: {:.4f}\".format(\n",
    "    np.mean(tr_scores), np.mean(scores), np.std(scores)\n",
    "))  #0.08 with hours txn time included"
   ]
  },
  {
   "cell_type": "code",
   "execution_count": 13,
   "id": "269a3191",
   "metadata": {},
   "outputs": [
    {
     "name": "stdout",
     "output_type": "stream",
     "text": [
      "Train AUC score: 0.9738 Valid AUC score: 0.9414, STD: 0.0125\n"
     ]
    }
   ],
   "source": [
    "print(\"Train AUC score: {:.4f} Valid AUC score: {:.4f}, STD: {:.4f}\".format(\n",
    "    np.mean(tr_scores), np.mean(scores), np.std(scores)\n",
    "))  #0.09"
   ]
  },
  {
   "cell_type": "code",
   "execution_count": 181,
   "id": "0dad2d1a",
   "metadata": {},
   "outputs": [
    {
     "name": "stdout",
     "output_type": "stream",
     "text": [
      "Train AUC score: 0.9682 Valid AUC score: 0.9436, STD: 0.0110\n"
     ]
    }
   ],
   "source": [
    "print(\"Train AUC score: {:.4f} Valid AUC score: {:.4f}, STD: {:.4f}\".format(\n",
    "    np.mean(tr_scores), np.mean(scores), np.std(scores)\n",
    "))  #0.09"
   ]
  },
  {
   "cell_type": "code",
   "execution_count": 133,
   "id": "868e27c9",
   "metadata": {},
   "outputs": [
    {
     "name": "stdout",
     "output_type": "stream",
     "text": [
      "Train AUC score: 0.9694 Valid AUC score: 0.9383, STD: 0.0094\n"
     ]
    }
   ],
   "source": [
    "print(\"Train AUC score: {:.4f} Valid AUC score: {:.4f}, STD: {:.4f}\".format(\n",
    "    np.mean(tr_scores), np.mean(scores), np.std(scores)\n",
    "))  #0.09"
   ]
  },
  {
   "cell_type": "code",
   "execution_count": 121,
   "id": "3d77d0e1",
   "metadata": {},
   "outputs": [
    {
     "name": "stdout",
     "output_type": "stream",
     "text": [
      "Train AUC score: 0.9717 Valid AUC score: 0.9342, STD: 0.0068\n"
     ]
    }
   ],
   "source": [
    "print(\"Train AUC score: {:.4f} Valid AUC score: {:.4f}, STD: {:.4f}\".format(\n",
    "    np.mean(tr_scores), np.mean(scores), np.std(scores)\n",
    "))  #0.11"
   ]
  },
  {
   "cell_type": "code",
   "execution_count": 109,
   "id": "73631063",
   "metadata": {},
   "outputs": [
    {
     "name": "stdout",
     "output_type": "stream",
     "text": [
      "Train AUC score: 0.9700 Valid AUC score: 0.9323, STD: 0.0096\n"
     ]
    }
   ],
   "source": [
    "print(\"Train AUC score: {:.4f} Valid AUC score: {:.4f}, STD: {:.4f}\".format(\n",
    "    np.mean(tr_scores), np.mean(scores), np.std(scores)\n",
    "))  #0.15"
   ]
  },
  {
   "cell_type": "code",
   "execution_count": 87,
   "id": "c7aec7d5",
   "metadata": {},
   "outputs": [
    {
     "name": "stdout",
     "output_type": "stream",
     "text": [
      "Train AUC score: 0.9694 Valid AUC score: 0.9383, STD: 0.0094\n"
     ]
    }
   ],
   "source": [
    "print(\"Train AUC score: {:.4f} Valid AUC score: {:.4f}, STD: {:.4f}\".format(\n",
    "    np.mean(tr_scores), np.mean(scores), np.std(scores)\n",
    ")) #0.1"
   ]
  },
  {
   "cell_type": "code",
   "execution_count": 52,
   "id": "dea72273",
   "metadata": {},
   "outputs": [],
   "source": [
    "import pandas as pd\n",
    "from sklearn.ensemble import RandomForestClassifier\n",
    "from sklearn.model_selection import cross_val_score\n",
    "import lightgbm as lgbm"
   ]
  },
  {
   "cell_type": "code",
   "execution_count": 53,
   "id": "21ae0e32",
   "metadata": {},
   "outputs": [
    {
     "name": "stdout",
     "output_type": "stream",
     "text": [
      "Roc auc Score: 0.9838\n"
     ]
    }
   ],
   "source": [
    "# Train and score baseline model\n",
    "baseline = lgbm.LGBMClassifier(objective = \"binary\", boosting_type = \"gbdt\", metric = \"auc\", is_unbalance = True,\n",
    "                               learning_rate = 0.005,\n",
    "                               random_state=0)\n",
    "baseline_score = cross_val_score(\n",
    "    baseline, X, y, cv=5, scoring=\"roc_auc\")\n",
    "\n",
    "baseline_score = baseline_score.mean()\n",
    "\n",
    "print(f\"Roc auc Score: {baseline_score:.4}\")"
   ]
  },
  {
   "cell_type": "code",
   "execution_count": null,
   "id": "b92d0f9d",
   "metadata": {},
   "outputs": [],
   "source": [
    "X = df.drop([\"target\"],1)"
   ]
  },
  {
   "cell_type": "code",
   "execution_count": 54,
   "id": "25679cf2",
   "metadata": {},
   "outputs": [
    {
     "data": {
      "application/vnd.jupyter.widget-view+json": {
       "model_id": "f53f0a0e701948f290c82b3bc04912bd",
       "version_major": 2,
       "version_minor": 0
      },
      "text/plain": [
       "  0%|          | 0/27 [00:00<?, ?it/s]"
      ]
     },
     "metadata": {},
     "output_type": "display_data"
    },
    {
     "data": {
      "image/png": "[encoded data removed]",
      "text/plain": [
       "<Figure size 864x1440 with 1 Axes>"
      ]
     },
     "metadata": {
      "needs_background": "light"
     },
     "output_type": "display_data"
    }
   ],
   "source": [
    "import pandas as pd\n",
    "from sklearn.model_selection import KFold\n",
    "from lofo import LOFOImportance, Dataset, plot_importance\n",
    "%matplotlib inline\n",
    "\n",
    "# extract a sample of the data\n",
    "sample_df = df.sample(frac=1, random_state=0)\n",
    "\n",
    "\n",
    "# define the validation scheme\n",
    "cv = StratifiedKFold(n_splits=4, shuffle=False)\n",
    "target = \"target\"\n",
    "# define the binary target and the features\n",
    "dataset = Dataset(df=sample_df, target=\"target\", features=[col for col in X.columns if col != target])\n",
    "\n",
    "# define the validation scheme and scorer. The default model is LightGBM\n",
    "lofo_imp = LOFOImportance(dataset, cv=cv, scoring=\"roc_auc\")\n",
    "\n",
    "# get the mean and standard deviation of the importances in pandas format\n",
    "importance_df = lofo_imp.get_importance()\n",
    "\n",
    "# plot the means and standard deviations of the importances\n",
    "plot_importance(importance_df, figsize=(12, 20))"
   ]
  },
  {
   "cell_type": "code",
   "execution_count": 15,
   "id": "ed259843",
   "metadata": {},
   "outputs": [
    {
     "name": "stderr",
     "output_type": "stream",
     "text": [
      "C:\\Users\\ANALYT~1\\AppData\\Local\\Temp/ipykernel_10188/1638491600.py:1: FutureWarning: In a future version of pandas all arguments of DataFrame.drop except for the argument 'labels' will be keyword-only\n",
      "  df.drop([\"time\"], 1, inplace = True)\n",
      "C:\\Users\\ANALYT~1\\AppData\\Local\\Temp/ipykernel_10188/1638491600.py:2: FutureWarning: In a future version of pandas all arguments of DataFrame.drop except for the argument 'labels' will be keyword-only\n",
      "  test.drop([\"time\"], 1, inplace = True)\n"
     ]
    }
   ],
   "source": [
    "df.drop([\"time\"], 1, inplace = True)\n",
    "test.drop([\"time\"], 1, inplace = True)"
   ]
  },
  {
   "cell_type": "code",
   "execution_count": 22,
   "id": "03432f3a",
   "metadata": {},
   "outputs": [
    {
     "name": "stderr",
     "output_type": "stream",
     "text": [
      "C:\\Users\\ANALYT~1\\AppData\\Local\\Temp/ipykernel_10188/3191008212.py:1: FutureWarning: In a future version of pandas all arguments of DataFrame.drop except for the argument 'labels' will be keyword-only\n",
      "  X = df.drop([\"target\"],1)\n"
     ]
    }
   ],
   "source": [
    "X = df.drop([\"target\"],1)\n",
    "y = df.target"
   ]
  },
  {
   "cell_type": "code",
   "execution_count": 23,
   "id": "a32811cb",
   "metadata": {},
   "outputs": [],
   "source": [
    "def create(hyperparams):\n",
    "    model = LGBMClassifier(**hyperparams)\n",
    "    return model\n",
    "\n",
    "def fit(model, X, y):\n",
    "    model.fit(X, y)\n",
    "    return model\n",
    "\n",
    "def fit_with_stop(model, X, y, X_val, y_val, esr):\n",
    "    model.fit(X, y,\n",
    "              eval_set=(X_val, y_val),\n",
    "              early_stopping_rounds=esr, \n",
    "              verbose=200)\n",
    "    return model\n",
    "\n",
    "def evaluate(model, X, y):\n",
    "    yp = model.predict_proba(X)[:, 1]\n",
    "    auc_score = roc_auc_score(y, yp)\n",
    "    return auc_score\n",
    "\n",
    "def kfold_evaluation(X, y, k, hyperparams, esr=300):\n",
    "    scores = []\n",
    "    \n",
    "    print(f\"\\n------ {k}-fold evaluation -----\")\n",
    "    print(hyperparams)\n",
    "    \n",
    "    kf = StratifiedKFold(k)\n",
    "    for i, (train_idx, test_idx) in enumerate(kf.split(X, y)):\n",
    "        print(f\"\\n----- FOLD {i} -----\")\n",
    "        \n",
    "        X_train = X.iloc[train_idx]\n",
    "        y_train = y.iloc[train_idx]\n",
    "        X_val = X.iloc[test_idx]\n",
    "        y_val = y.iloc[test_idx]\n",
    "        \n",
    "        model = create(hyperparams)\n",
    "        model = fit_with_stop(model, X_train, y_train, X_val, y_val, esr)\n",
    "        train_score = evaluate(model, X_train, y_train)\n",
    "        val_score = evaluate(model, X_val, y_val)\n",
    "        scores.append((train_score, val_score))\n",
    "        \n",
    "        print(f\"Fold {i} | Eval AUC: {val_score}\")\n",
    "        \n",
    "        \n",
    "    scores = pd.DataFrame(scores, columns=['train score', 'validation score'])\n",
    "    \n",
    "    return scores\n",
    "\n",
    "def kfold_prediction(X, y, X_test, k, hyperparams, esr=300):\n",
    "    yp = np.zeros(len(X_test))\n",
    "    \n",
    "    print(f\"\\n------ {k}-fold evaluation -----\")\n",
    "    print(hyperparams)\n",
    "    \n",
    "    kf = StratifiedKFold(k)\n",
    "    for i, (train_idx, test_idx) in enumerate(kf.split(X,y)):\n",
    "        print(f\"\\n----- FOLD {i} -----\")\n",
    "        X_train = X.iloc[train_idx]\n",
    "        y_train = y.iloc[train_idx]\n",
    "        X_val = X.iloc[test_idx]\n",
    "        y_val = y.iloc[test_idx]\n",
    "        \n",
    "        model = create(hyperparams)\n",
    "        model = fit_with_stop(model, X_train, y_train, X_val, y_val, esr)\n",
    "        yp += model.predict_proba(X_test)[:, 1] / k\n",
    "    \n",
    "    return yp"
   ]
  },
  {
   "cell_type": "code",
   "execution_count": 24,
   "id": "51a7793c",
   "metadata": {},
   "outputs": [],
   "source": [
    "K = 5\n",
    "BEST_PARAMS = {'n_estimators': 10000, 'learning_rate': 0.05,\n",
    " 'metric': 'auc'\n",
    "}"
   ]
  },
  {
   "cell_type": "code",
   "execution_count": 25,
   "id": "b0befdf8",
   "metadata": {},
   "outputs": [],
   "source": [
    "def objective(trial):\n",
    "    hyperparams = {\n",
    "        'reg_alpha': trial.suggest_float('reg_alpha', 0.001, 10.0),\n",
    "        'reg_lambda': trial.suggest_float('reg_lambda', 0.001, 10.0),\n",
    "        'num_leaves': trial.suggest_int('num_leaves', 5, 1000),\n",
    "        'min_child_samples': trial.suggest_int('min_child_samples', 5, 100),\n",
    "        'max_depth': trial.suggest_int('max_depth', 5, 64),\n",
    "        'colsample_bytree': trial.suggest_float('colsample_bytree', 0.1, 0.5),\n",
    "        'cat_smooth' : trial.suggest_int('cat_smooth', 10, 100),\n",
    "        'cat_l2': trial.suggest_int('cat_l2', 1, 20),\n",
    "        'min_data_per_group': trial.suggest_int('min_data_per_group', 50, 200),\n",
    "        \"is_unbalance\" : True,\n",
    "        \"verbose\" :2\n",
    "    }\n",
    "    \n",
    "    hyperparams.update(BEST_PARAMS)\n",
    "    \n",
    "    scores = kfold_evaluation(X, y, K, hyperparams, 300)\n",
    "    \n",
    "    return scores['validation score'].mean()"
   ]
  },
  {
   "cell_type": "code",
   "execution_count": 27,
   "id": "0cdf144b",
   "metadata": {},
   "outputs": [
    {
     "name": "stderr",
     "output_type": "stream",
     "text": [
      "C:\\Users\\ANALYT~1\\AppData\\Local\\Temp/ipykernel_10188/3191008212.py:1: FutureWarning: In a future version of pandas all arguments of DataFrame.drop except for the argument 'labels' will be keyword-only\n",
      "  X = df.drop([\"target\"],1)\n"
     ]
    }
   ],
   "source": [
    "X = df.drop([\"target\"],1)\n",
    "y = df.target"
   ]
  },
  {
   "cell_type": "code",
   "execution_count": 28,
   "id": "06c0df04",
   "metadata": {},
   "outputs": [
    {
     "data": {
      "text/plain": [
       "0"
      ]
     },
     "execution_count": 28,
     "metadata": {},
     "output_type": "execute_result"
    }
   ],
   "source": [
    "import gc\n",
    "gc.collect()"
   ]
  },
  {
   "cell_type": "code",
   "execution_count": null,
   "id": "399bd974",
   "metadata": {},
   "outputs": [
    {
     "name": "stderr",
     "output_type": "stream",
     "text": [
      "\u001b[32m[I 2021-11-29 19:21:16,985]\u001b[0m A new study created in memory with name: no-name-e925d3f4-c494-4caf-aacc-a1f10cf7095b\u001b[0m\n",
      "C:\\Users\\analyticahouse\\Anaconda3\\lib\\site-packages\\optuna\\study\\study.py:393: FutureWarning: `n_jobs` argument has been deprecated in v2.7.0. This feature will be removed in v4.0.0. See https://github.com/optuna/optuna/releases/tag/v2.7.0.\n",
      "  warnings.warn(\n"
     ]
    },
    {
     "name": "stdout",
     "output_type": "stream",
     "text": [
      "\n",
      "------ 5-fold evaluation -----\n",
      "{'reg_alpha': 7.775306033503444, 'reg_lambda': 9.463453358243301, 'num_leaves': 700, 'min_child_samples': 52, 'max_depth': 16, 'colsample_bytree': 0.36192394322679533, 'cat_smooth': 20, 'cat_l2': 5, 'min_data_per_group': 154, 'is_unbalance': True, 'verbose': 2, 'n_estimators': 10000, 'learning_rate': 0.05, 'metric': 'auc'}\n",
      "\n",
      "------ 5-fold evaluation -----\n",
      "{'reg_alpha': 2.14647633345709, 'reg_lambda': 4.317595000944313, 'num_leaves': 819, 'min_child_samples': 93, 'max_depth': 19, 'colsample_bytree': 0.3779831292639084, 'cat_smooth': 26, 'cat_l2': 13, 'min_data_per_group': 200, 'is_unbalance': True, 'verbose': 2, 'n_estimators': 10000, 'learning_rate': 0.05, 'metric': 'auc'}\n",
      "\n",
      "------ 5-fold evaluation -----\n",
      "{'reg_alpha': 1.3429997011960169, 'reg_lambda': 3.4293591512416546, 'num_leaves': 116, 'min_child_samples': 82, 'max_depth': 49, 'colsample_bytree': 0.26557876636837535, 'cat_smooth': 90, 'cat_l2': 9, 'min_data_per_group': 183, 'is_unbalance': True, 'verbose': 2, 'n_estimators': 10000, 'learning_rate': 0.05, 'metric': 'auc'}\n",
      "\n",
      "------ 5-fold evaluation -----\n",
      "{'reg_alpha': 1.6585443186115, 'reg_lambda': 5.438833031431512, 'num_leaves': 566, 'min_child_samples': 74, 'max_depth': 32, 'colsample_bytree': 0.3604795981238206, 'cat_smooth': 48, 'cat_l2': 18, 'min_data_per_group': 79, 'is_unbalance': True, 'verbose': 2, 'n_estimators': 10000, 'learning_rate': 0.05, 'metric': 'auc'}\n",
      "\n",
      "------ 5-fold evaluation -----\n",
      "{'reg_alpha': 7.963812487912805, 'reg_lambda': 5.972050874333408, 'num_leaves': 929, 'min_child_samples': 91, 'max_depth': 11, 'colsample_bytree': 0.46413831883652845, 'cat_smooth': 42, 'cat_l2': 11, 'min_data_per_group': 194, 'is_unbalance': True, 'verbose': 2, 'n_estimators': 10000, 'learning_rate': 0.05, 'metric': 'auc'}\n",
      "\n",
      "------ 5-fold evaluation -----\n",
      "{'reg_alpha': 6.631260077505554, 'reg_lambda': 7.241052182560413, 'num_leaves': 463, 'min_child_samples': 16, 'max_depth': 50, 'colsample_bytree': 0.1282079690439505, 'cat_smooth': 54, 'cat_l2': 5, 'min_data_per_group': 87, 'is_unbalance': True, 'verbose': 2, 'n_estimators': 10000, 'learning_rate': 0.05, 'metric': 'auc'}\n",
      "\n",
      "------ 5-fold evaluation -----\n",
      "{'reg_alpha': 8.518720225227923, 'reg_lambda': 2.096670467767513, 'num_leaves': 553, 'min_child_samples': 30, 'max_depth': 49, 'colsample_bytree': 0.3840675728580547, 'cat_smooth': 74, 'cat_l2': 20, 'min_data_per_group': 138, 'is_unbalance': True, 'verbose': 2, 'n_estimators': 10000, 'learning_rate': 0.05, 'metric': 'auc'}\n",
      "\n",
      "------ 5-fold evaluation -----\n",
      "{'reg_alpha': 8.033665390717193, 'reg_lambda': 0.07568611469395248, 'num_leaves': 201, 'min_child_samples': 47, 'max_depth': 54, 'colsample_bytree': 0.2535570713174402, 'cat_smooth': 67, 'cat_l2': 12, 'min_data_per_group': 97, 'is_unbalance': True, 'verbose': 2, 'n_estimators': 10000, 'learning_rate': 0.05, 'metric': 'auc'}\n",
      "\n",
      "----- FOLD 0 -----\n",
      "\n",
      "----- FOLD 0 -----\n",
      "\n",
      "----- FOLD 0 -----\n",
      "\n",
      "----- FOLD 0 -----\n",
      "----- FOLD 0 -----\n",
      "\n",
      "\n",
      "----- FOLD 0 -----\n",
      "\n",
      "----- FOLD 0 -----\n",
      "----- FOLD 0 -----\n",
      "\n"
     ]
    },
    {
     "name": "stderr",
     "output_type": "stream",
     "text": [
      "C:\\Users\\analyticahouse\\Anaconda3\\lib\\site-packages\\lightgbm\\sklearn.py:726: UserWarning: 'early_stopping_rounds' argument is deprecated and will be removed in a future release of LightGBM. Pass 'early_stopping()' callback via 'callbacks' argument instead.\n",
      "  _log_warning(\"'early_stopping_rounds' argument is deprecated and will be removed in a future release of LightGBM. \"\n",
      "C:\\Users\\analyticahouse\\Anaconda3\\lib\\site-packages\\lightgbm\\sklearn.py:736: UserWarning: 'verbose' argument is deprecated and will be removed in a future release of LightGBM. Pass 'log_evaluation()' callback via 'callbacks' argument instead.\n",
      "  _log_warning(\"'verbose' argument is deprecated and will be removed in a future release of LightGBM. \"\n",
      "C:\\Users\\analyticahouse\\Anaconda3\\lib\\site-packages\\lightgbm\\sklearn.py:726: UserWarning: 'early_stopping_rounds' argument is deprecated and will be removed in a future release of LightGBM. Pass 'early_stopping()' callback via 'callbacks' argument instead.\n",
      "  _log_warning(\"'early_stopping_rounds' argument is deprecated and will be removed in a future release of LightGBM. \"\n",
      "C:\\Users\\analyticahouse\\Anaconda3\\lib\\site-packages\\lightgbm\\sklearn.py:726: UserWarning: 'early_stopping_rounds' argument is deprecated and will be removed in a future release of LightGBM. Pass 'early_stopping()' callback via 'callbacks' argument instead.\n",
      "  _log_warning(\"'early_stopping_rounds' argument is deprecated and will be removed in a future release of LightGBM. \"\n",
      "C:\\Users\\analyticahouse\\Anaconda3\\lib\\site-packages\\lightgbm\\sklearn.py:736: UserWarning: 'verbose' argument is deprecated and will be removed in a future release of LightGBM. Pass 'log_evaluation()' callback via 'callbacks' argument instead.\n",
      "  _log_warning(\"'verbose' argument is deprecated and will be removed in a future release of LightGBM. \"\n"
     ]
    },
    {
     "name": "stdout",
     "output_type": "stream",
     "text": [
      "[200]\tvalid_0's auc: 0.966801\n",
      "[200]\tvalid_0's auc: 0.975034\n",
      "[200]\tvalid_0's auc: 0.953115\n",
      "[400]\tvalid_0's auc: 0.972853\n",
      "[200]\tvalid_0's auc: 0.974874\n",
      "[200]\tvalid_0's auc: 0.975248\n",
      "[400]\tvalid_0's auc: 0.975921\n",
      "[400]\tvalid_0's auc: 0.961407\n",
      "[200]\tvalid_0's auc: 0.968847\n",
      "[200]\tvalid_0's auc: 0.95821\n",
      "[600]\tvalid_0's auc: 0.97444\n",
      "[200]\tvalid_0's auc: 0.972268\n",
      "[600]\tvalid_0's auc: 0.963027\n",
      "[400]\tvalid_0's auc: 0.976276\n",
      "[600]\tvalid_0's auc: 0.975251\n",
      "[400]\tvalid_0's auc: 0.976509\n",
      "Fold 0 | Eval AUC: 0.976011817104722\n",
      "\n",
      "----- FOLD 1 -----\n"
     ]
    },
    {
     "name": "stderr",
     "output_type": "stream",
     "text": [
      "C:\\Users\\analyticahouse\\Anaconda3\\lib\\site-packages\\lightgbm\\sklearn.py:726: UserWarning: 'early_stopping_rounds' argument is deprecated and will be removed in a future release of LightGBM. Pass 'early_stopping()' callback via 'callbacks' argument instead.\n",
      "  _log_warning(\"'early_stopping_rounds' argument is deprecated and will be removed in a future release of LightGBM. \"\n",
      "C:\\Users\\analyticahouse\\Anaconda3\\lib\\site-packages\\lightgbm\\sklearn.py:736: UserWarning: 'verbose' argument is deprecated and will be removed in a future release of LightGBM. Pass 'log_evaluation()' callback via 'callbacks' argument instead.\n",
      "  _log_warning(\"'verbose' argument is deprecated and will be removed in a future release of LightGBM. \"\n"
     ]
    },
    {
     "name": "stdout",
     "output_type": "stream",
     "text": [
      "[800]\tvalid_0's auc: 0.975381\n",
      "[800]\tvalid_0's auc: 0.964079\n",
      "[400]\tvalid_0's auc: 0.962224\n",
      "[600]\tvalid_0's auc: 0.976751\n",
      "[1000]\tvalid_0's auc: 0.964539\n",
      "[1200]\tvalid_0's auc: 0.964676\n",
      "[600]\tvalid_0's auc: 0.97679\n",
      "[1400]\tvalid_0's auc: 0.964679\n",
      "[400]\tvalid_0's auc: 0.970409\n",
      "Fold 0 | Eval AUC: 0.9646785422378557\n",
      "\n",
      "----- FOLD 1 -----\n"
     ]
    },
    {
     "name": "stderr",
     "output_type": "stream",
     "text": [
      "C:\\Users\\analyticahouse\\Anaconda3\\lib\\site-packages\\lightgbm\\sklearn.py:726: UserWarning: 'early_stopping_rounds' argument is deprecated and will be removed in a future release of LightGBM. Pass 'early_stopping()' callback via 'callbacks' argument instead.\n",
      "  _log_warning(\"'early_stopping_rounds' argument is deprecated and will be removed in a future release of LightGBM. \"\n",
      "C:\\Users\\analyticahouse\\Anaconda3\\lib\\site-packages\\lightgbm\\sklearn.py:736: UserWarning: 'verbose' argument is deprecated and will be removed in a future release of LightGBM. Pass 'log_evaluation()' callback via 'callbacks' argument instead.\n",
      "  _log_warning(\"'verbose' argument is deprecated and will be removed in a future release of LightGBM. \"\n"
     ]
    },
    {
     "name": "stdout",
     "output_type": "stream",
     "text": [
      "[1000]\tvalid_0's auc: 0.975645\n",
      "[600]\tvalid_0's auc: 0.963051\n",
      "[800]\tvalid_0's auc: 0.976886\n",
      "[400]\tvalid_0's auc: 0.974049\n",
      "[800]\tvalid_0's auc: 0.976726\n",
      "Fold 0 | Eval AUC: 0.9768578745005383\n",
      "\n",
      "----- FOLD 1 -----\n"
     ]
    },
    {
     "name": "stderr",
     "output_type": "stream",
     "text": [
      "C:\\Users\\analyticahouse\\Anaconda3\\lib\\site-packages\\lightgbm\\sklearn.py:726: UserWarning: 'early_stopping_rounds' argument is deprecated and will be removed in a future release of LightGBM. Pass 'early_stopping()' callback via 'callbacks' argument instead.\n",
      "  _log_warning(\"'early_stopping_rounds' argument is deprecated and will be removed in a future release of LightGBM. \"\n",
      "C:\\Users\\analyticahouse\\Anaconda3\\lib\\site-packages\\lightgbm\\sklearn.py:736: UserWarning: 'verbose' argument is deprecated and will be removed in a future release of LightGBM. Pass 'log_evaluation()' callback via 'callbacks' argument instead.\n",
      "  _log_warning(\"'verbose' argument is deprecated and will be removed in a future release of LightGBM. \"\n"
     ]
    },
    {
     "name": "stdout",
     "output_type": "stream",
     "text": [
      "[200]\tvalid_0's auc: 0.959879\n",
      "[800]\tvalid_0's auc: 0.963345\n",
      "[1000]\tvalid_0's auc: 0.97704\n",
      "[1200]\tvalid_0's auc: 0.976018\n",
      "[1000]\tvalid_0's auc: 0.963377\n",
      "[1200]\tvalid_0's auc: 0.963377\n",
      "[600]\tvalid_0's auc: 0.970798\n",
      "Fold 0 | Eval AUC: 0.9634114601418089\n",
      "\n",
      "----- FOLD 1 -----\n"
     ]
    },
    {
     "name": "stderr",
     "output_type": "stream",
     "text": [
      "C:\\Users\\analyticahouse\\Anaconda3\\lib\\site-packages\\lightgbm\\sklearn.py:726: UserWarning: 'early_stopping_rounds' argument is deprecated and will be removed in a future release of LightGBM. Pass 'early_stopping()' callback via 'callbacks' argument instead.\n",
      "  _log_warning(\"'early_stopping_rounds' argument is deprecated and will be removed in a future release of LightGBM. \"\n",
      "C:\\Users\\analyticahouse\\Anaconda3\\lib\\site-packages\\lightgbm\\sklearn.py:736: UserWarning: 'verbose' argument is deprecated and will be removed in a future release of LightGBM. Pass 'log_evaluation()' callback via 'callbacks' argument instead.\n",
      "  _log_warning(\"'verbose' argument is deprecated and will be removed in a future release of LightGBM. \"\n"
     ]
    },
    {
     "name": "stdout",
     "output_type": "stream",
     "text": [
      "[1200]\tvalid_0's auc: 0.977137\n",
      "[200]\tvalid_0's auc: 0.937881\n",
      "[600]\tvalid_0's auc: 0.974565\n",
      "[400]\tvalid_0's auc: 0.961468\n",
      "Fold 0 | Eval AUC: 0.9771796384841102\n",
      "\n",
      "----- FOLD 1 -----\n"
     ]
    },
    {
     "name": "stderr",
     "output_type": "stream",
     "text": [
      "C:\\Users\\analyticahouse\\Anaconda3\\lib\\site-packages\\lightgbm\\sklearn.py:726: UserWarning: 'early_stopping_rounds' argument is deprecated and will be removed in a future release of LightGBM. Pass 'early_stopping()' callback via 'callbacks' argument instead.\n",
      "  _log_warning(\"'early_stopping_rounds' argument is deprecated and will be removed in a future release of LightGBM. \"\n",
      "C:\\Users\\analyticahouse\\Anaconda3\\lib\\site-packages\\lightgbm\\sklearn.py:736: UserWarning: 'verbose' argument is deprecated and will be removed in a future release of LightGBM. Pass 'log_evaluation()' callback via 'callbacks' argument instead.\n",
      "  _log_warning(\"'verbose' argument is deprecated and will be removed in a future release of LightGBM. \"\n"
     ]
    },
    {
     "name": "stdout",
     "output_type": "stream",
     "text": [
      "[1400]\tvalid_0's auc: 0.976136\n",
      "[800]\tvalid_0's auc: 0.970834\n",
      "[1600]\tvalid_0's auc: 0.976136\n",
      "Fold 0 | Eval AUC: 0.9709103665410959\n",
      "\n",
      "----- FOLD 1 -----\n"
     ]
    },
    {
     "name": "stderr",
     "output_type": "stream",
     "text": [
      "C:\\Users\\analyticahouse\\Anaconda3\\lib\\site-packages\\lightgbm\\sklearn.py:726: UserWarning: 'early_stopping_rounds' argument is deprecated and will be removed in a future release of LightGBM. Pass 'early_stopping()' callback via 'callbacks' argument instead.\n",
      "  _log_warning(\"'early_stopping_rounds' argument is deprecated and will be removed in a future release of LightGBM. \"\n",
      "C:\\Users\\analyticahouse\\Anaconda3\\lib\\site-packages\\lightgbm\\sklearn.py:736: UserWarning: 'verbose' argument is deprecated and will be removed in a future release of LightGBM. Pass 'log_evaluation()' callback via 'callbacks' argument instead.\n",
      "  _log_warning(\"'verbose' argument is deprecated and will be removed in a future release of LightGBM. \"\n"
     ]
    },
    {
     "name": "stdout",
     "output_type": "stream",
     "text": [
      "[600]\tvalid_0's auc: 0.961151\n",
      "[800]\tvalid_0's auc: 0.974722\n",
      "[200]\tvalid_0's auc: 0.949318\n",
      "[400]\tvalid_0's auc: 0.94472\n",
      "Fold 0 | Eval AUC: 0.9761748221435527\n",
      "\n",
      "----- FOLD 1 -----\n"
     ]
    },
    {
     "name": "stderr",
     "output_type": "stream",
     "text": [
      "C:\\Users\\analyticahouse\\Anaconda3\\lib\\site-packages\\lightgbm\\sklearn.py:726: UserWarning: 'early_stopping_rounds' argument is deprecated and will be removed in a future release of LightGBM. Pass 'early_stopping()' callback via 'callbacks' argument instead.\n",
      "  _log_warning(\"'early_stopping_rounds' argument is deprecated and will be removed in a future release of LightGBM. \"\n",
      "C:\\Users\\analyticahouse\\Anaconda3\\lib\\site-packages\\lightgbm\\sklearn.py:736: UserWarning: 'verbose' argument is deprecated and will be removed in a future release of LightGBM. Pass 'log_evaluation()' callback via 'callbacks' argument instead.\n",
      "  _log_warning(\"'verbose' argument is deprecated and will be removed in a future release of LightGBM. \"\n"
     ]
    },
    {
     "name": "stdout",
     "output_type": "stream",
     "text": [
      "Fold 1 | Eval AUC: 0.9615703087704065\n",
      "\n",
      "----- FOLD 2 -----\n"
     ]
    },
    {
     "name": "stderr",
     "output_type": "stream",
     "text": [
      "C:\\Users\\analyticahouse\\Anaconda3\\lib\\site-packages\\lightgbm\\sklearn.py:726: UserWarning: 'early_stopping_rounds' argument is deprecated and will be removed in a future release of LightGBM. Pass 'early_stopping()' callback via 'callbacks' argument instead.\n",
      "  _log_warning(\"'early_stopping_rounds' argument is deprecated and will be removed in a future release of LightGBM. \"\n",
      "C:\\Users\\analyticahouse\\Anaconda3\\lib\\site-packages\\lightgbm\\sklearn.py:736: UserWarning: 'verbose' argument is deprecated and will be removed in a future release of LightGBM. Pass 'log_evaluation()' callback via 'callbacks' argument instead.\n",
      "  _log_warning(\"'verbose' argument is deprecated and will be removed in a future release of LightGBM. \"\n"
     ]
    },
    {
     "name": "stdout",
     "output_type": "stream",
     "text": [
      "[1000]\tvalid_0's auc: 0.974715\n",
      "[600]\tvalid_0's auc: 0.946343\n",
      "[200]\tvalid_0's auc: 0.945632\n",
      "[200]\tvalid_0's auc: 0.950774\n",
      "[400]\tvalid_0's auc: 0.953878\n",
      "Fold 0 | Eval AUC: 0.9747949870692547\n",
      "\n",
      "----- FOLD 1 -----\n"
     ]
    },
    {
     "name": "stderr",
     "output_type": "stream",
     "text": [
      "C:\\Users\\analyticahouse\\Anaconda3\\lib\\site-packages\\lightgbm\\sklearn.py:726: UserWarning: 'early_stopping_rounds' argument is deprecated and will be removed in a future release of LightGBM. Pass 'early_stopping()' callback via 'callbacks' argument instead.\n",
      "  _log_warning(\"'early_stopping_rounds' argument is deprecated and will be removed in a future release of LightGBM. \"\n",
      "C:\\Users\\analyticahouse\\Anaconda3\\lib\\site-packages\\lightgbm\\sklearn.py:736: UserWarning: 'verbose' argument is deprecated and will be removed in a future release of LightGBM. Pass 'log_evaluation()' callback via 'callbacks' argument instead.\n",
      "  _log_warning(\"'verbose' argument is deprecated and will be removed in a future release of LightGBM. \"\n"
     ]
    },
    {
     "name": "stdout",
     "output_type": "stream",
     "text": [
      "[800]\tvalid_0's auc: 0.947224\n",
      "[200]\tvalid_0's auc: 0.967698\n",
      "[200]\tvalid_0's auc: 0.927938\n",
      "[1000]\tvalid_0's auc: 0.947408\n",
      "[600]\tvalid_0's auc: 0.954867\n",
      "[400]\tvalid_0's auc: 0.955096\n",
      "[1200]\tvalid_0's auc: 0.947643\n",
      "[400]\tvalid_0's auc: 0.9514\n",
      "[1400]\tvalid_0's auc: 0.947653\n",
      "[1600]\tvalid_0's auc: 0.947653\n",
      "[200]\tvalid_0's auc: 0.951462\n",
      "Fold 1 | Eval AUC: 0.9476529086604314\n",
      "\n",
      "----- FOLD 2 -----\n"
     ]
    },
    {
     "name": "stderr",
     "output_type": "stream",
     "text": [
      "C:\\Users\\analyticahouse\\Anaconda3\\lib\\site-packages\\lightgbm\\sklearn.py:726: UserWarning: 'early_stopping_rounds' argument is deprecated and will be removed in a future release of LightGBM. Pass 'early_stopping()' callback via 'callbacks' argument instead.\n",
      "  _log_warning(\"'early_stopping_rounds' argument is deprecated and will be removed in a future release of LightGBM. \"\n",
      "C:\\Users\\analyticahouse\\Anaconda3\\lib\\site-packages\\lightgbm\\sklearn.py:736: UserWarning: 'verbose' argument is deprecated and will be removed in a future release of LightGBM. Pass 'log_evaluation()' callback via 'callbacks' argument instead.\n",
      "  _log_warning(\"'verbose' argument is deprecated and will be removed in a future release of LightGBM. \"\n"
     ]
    },
    {
     "name": "stdout",
     "output_type": "stream",
     "text": [
      "[800]\tvalid_0's auc: 0.954936\n",
      "[400]\tvalid_0's auc: 0.968043\n",
      "[600]\tvalid_0's auc: 0.952997\n",
      "[400]\tvalid_0's auc: 0.923733\n",
      "[600]\tvalid_0's auc: 0.955781\n",
      "[1000]\tvalid_0's auc: 0.955024\n",
      "Fold 2 | Eval AUC: 0.929111941987508\n",
      "\n",
      "----- FOLD 3 -----\n"
     ]
    },
    {
     "name": "stderr",
     "output_type": "stream",
     "text": [
      "C:\\Users\\analyticahouse\\Anaconda3\\lib\\site-packages\\lightgbm\\sklearn.py:726: UserWarning: 'early_stopping_rounds' argument is deprecated and will be removed in a future release of LightGBM. Pass 'early_stopping()' callback via 'callbacks' argument instead.\n",
      "  _log_warning(\"'early_stopping_rounds' argument is deprecated and will be removed in a future release of LightGBM. \"\n",
      "C:\\Users\\analyticahouse\\Anaconda3\\lib\\site-packages\\lightgbm\\sklearn.py:736: UserWarning: 'verbose' argument is deprecated and will be removed in a future release of LightGBM. Pass 'log_evaluation()' callback via 'callbacks' argument instead.\n",
      "  _log_warning(\"'verbose' argument is deprecated and will be removed in a future release of LightGBM. \"\n"
     ]
    },
    {
     "name": "stdout",
     "output_type": "stream",
     "text": [
      "[800]\tvalid_0's auc: 0.953351\n",
      "[1200]\tvalid_0's auc: 0.955024\n",
      "Fold 1 | Eval AUC: 0.9551917759639063\n",
      "\n",
      "----- FOLD 2 -----\n"
     ]
    },
    {
     "name": "stderr",
     "output_type": "stream",
     "text": [
      "C:\\Users\\analyticahouse\\Anaconda3\\lib\\site-packages\\lightgbm\\sklearn.py:726: UserWarning: 'early_stopping_rounds' argument is deprecated and will be removed in a future release of LightGBM. Pass 'early_stopping()' callback via 'callbacks' argument instead.\n",
      "  _log_warning(\"'early_stopping_rounds' argument is deprecated and will be removed in a future release of LightGBM. \"\n",
      "C:\\Users\\analyticahouse\\Anaconda3\\lib\\site-packages\\lightgbm\\sklearn.py:736: UserWarning: 'verbose' argument is deprecated and will be removed in a future release of LightGBM. Pass 'log_evaluation()' callback via 'callbacks' argument instead.\n",
      "  _log_warning(\"'verbose' argument is deprecated and will be removed in a future release of LightGBM. \"\n"
     ]
    },
    {
     "name": "stdout",
     "output_type": "stream",
     "text": [
      "[1000]\tvalid_0's auc: 0.953354\n",
      "Fold 1 | Eval AUC: 0.9682431051567026\n",
      "\n",
      "----- FOLD 2 -----\n"
     ]
    },
    {
     "name": "stderr",
     "output_type": "stream",
     "text": [
      "C:\\Users\\analyticahouse\\Anaconda3\\lib\\site-packages\\lightgbm\\sklearn.py:726: UserWarning: 'early_stopping_rounds' argument is deprecated and will be removed in a future release of LightGBM. Pass 'early_stopping()' callback via 'callbacks' argument instead.\n",
      "  _log_warning(\"'early_stopping_rounds' argument is deprecated and will be removed in a future release of LightGBM. \"\n",
      "C:\\Users\\analyticahouse\\Anaconda3\\lib\\site-packages\\lightgbm\\sklearn.py:736: UserWarning: 'verbose' argument is deprecated and will be removed in a future release of LightGBM. Pass 'log_evaluation()' callback via 'callbacks' argument instead.\n",
      "  _log_warning(\"'verbose' argument is deprecated and will be removed in a future release of LightGBM. \"\n"
     ]
    },
    {
     "name": "stdout",
     "output_type": "stream",
     "text": [
      "Fold 1 | Eval AUC: 0.9533833102575976\n",
      "\n",
      "----- FOLD 2 -----\n"
     ]
    },
    {
     "name": "stderr",
     "output_type": "stream",
     "text": [
      "C:\\Users\\analyticahouse\\Anaconda3\\lib\\site-packages\\lightgbm\\sklearn.py:726: UserWarning: 'early_stopping_rounds' argument is deprecated and will be removed in a future release of LightGBM. Pass 'early_stopping()' callback via 'callbacks' argument instead.\n",
      "  _log_warning(\"'early_stopping_rounds' argument is deprecated and will be removed in a future release of LightGBM. \"\n",
      "C:\\Users\\analyticahouse\\Anaconda3\\lib\\site-packages\\lightgbm\\sklearn.py:736: UserWarning: 'verbose' argument is deprecated and will be removed in a future release of LightGBM. Pass 'log_evaluation()' callback via 'callbacks' argument instead.\n",
      "  _log_warning(\"'verbose' argument is deprecated and will be removed in a future release of LightGBM. \"\n"
     ]
    },
    {
     "name": "stdout",
     "output_type": "stream",
     "text": [
      "[800]\tvalid_0's auc: 0.956452\n",
      "[200]\tvalid_0's auc: 0.940933\n",
      "[200]\tvalid_0's auc: 0.951724\n",
      "[400]\tvalid_0's auc: 0.95587\n",
      "[1000]\tvalid_0's auc: 0.95727\n",
      "[200]\tvalid_0's auc: 0.945806\n",
      "[400]\tvalid_0's auc: 0.948253\n",
      "[600]\tvalid_0's auc: 0.957403\n",
      "[1200]\tvalid_0's auc: 0.957756\n",
      "[200]\tvalid_0's auc: 0.978638\n",
      "[400]\tvalid_0's auc: 0.951904\n",
      "[400]\tvalid_0's auc: 0.956898\n",
      "[600]\tvalid_0's auc: 0.949685\n",
      "[800]\tvalid_0's auc: 0.957953\n",
      "[200]\tvalid_0's auc: 0.905213\n",
      "[1400]\tvalid_0's auc: 0.958041\n",
      "[200]\tvalid_0's auc: 0.92508\n",
      "[800]\tvalid_0's auc: 0.950486\n",
      "[1000]\tvalid_0's auc: 0.958339\n",
      "[600]\tvalid_0's auc: 0.952918\n",
      "[1600]\tvalid_0's auc: 0.958127\n",
      "[400]\tvalid_0's auc: 0.979774\n",
      "[1000]\tvalid_0's auc: 0.950503\n",
      "[400]\tvalid_0's auc: 0.913364\n",
      "[600]\tvalid_0's auc: 0.958261\n",
      "[1200]\tvalid_0's auc: 0.958393\n",
      "[1200]\tvalid_0's auc: 0.950726\n",
      "[1800]\tvalid_0's auc: 0.958243\n",
      "[1400]\tvalid_0's auc: 0.950743\n",
      "Fold 2 | Eval AUC: 0.9507430003271212\n",
      "\n",
      "----- FOLD 3 -----\n"
     ]
    },
    {
     "name": "stderr",
     "output_type": "stream",
     "text": [
      "C:\\Users\\analyticahouse\\Anaconda3\\lib\\site-packages\\lightgbm\\sklearn.py:726: UserWarning: 'early_stopping_rounds' argument is deprecated and will be removed in a future release of LightGBM. Pass 'early_stopping()' callback via 'callbacks' argument instead.\n",
      "  _log_warning(\"'early_stopping_rounds' argument is deprecated and will be removed in a future release of LightGBM. \"\n",
      "C:\\Users\\analyticahouse\\Anaconda3\\lib\\site-packages\\lightgbm\\sklearn.py:736: UserWarning: 'verbose' argument is deprecated and will be removed in a future release of LightGBM. Pass 'log_evaluation()' callback via 'callbacks' argument instead.\n",
      "  _log_warning(\"'verbose' argument is deprecated and will be removed in a future release of LightGBM. \"\n"
     ]
    },
    {
     "name": "stdout",
     "output_type": "stream",
     "text": [
      "[1400]\tvalid_0's auc: 0.958483\n",
      "[800]\tvalid_0's auc: 0.953403\n",
      "[1600]\tvalid_0's auc: 0.958474\n",
      "[400]\tvalid_0's auc: 0.925876\n",
      "[2000]\tvalid_0's auc: 0.958254\n",
      "Fold 1 | Eval AUC: 0.9584791919563899\n",
      "\n",
      "----- FOLD 2 -----\n"
     ]
    },
    {
     "name": "stderr",
     "output_type": "stream",
     "text": [
      "C:\\Users\\analyticahouse\\Anaconda3\\lib\\site-packages\\lightgbm\\sklearn.py:726: UserWarning: 'early_stopping_rounds' argument is deprecated and will be removed in a future release of LightGBM. Pass 'early_stopping()' callback via 'callbacks' argument instead.\n",
      "  _log_warning(\"'early_stopping_rounds' argument is deprecated and will be removed in a future release of LightGBM. \"\n",
      "C:\\Users\\analyticahouse\\Anaconda3\\lib\\site-packages\\lightgbm\\sklearn.py:736: UserWarning: 'verbose' argument is deprecated and will be removed in a future release of LightGBM. Pass 'log_evaluation()' callback via 'callbacks' argument instead.\n",
      "  _log_warning(\"'verbose' argument is deprecated and will be removed in a future release of LightGBM. \"\n"
     ]
    },
    {
     "name": "stdout",
     "output_type": "stream",
     "text": [
      "[600]\tvalid_0's auc: 0.979949\n",
      "[600]\tvalid_0's auc: 0.916038\n",
      "[2200]\tvalid_0's auc: 0.958248\n",
      "Fold 1 | Eval AUC: 0.9582751942521905\n",
      "\n",
      "----- FOLD 2 -----\n"
     ]
    },
    {
     "name": "stderr",
     "output_type": "stream",
     "text": [
      "C:\\Users\\analyticahouse\\Anaconda3\\lib\\site-packages\\lightgbm\\sklearn.py:726: UserWarning: 'early_stopping_rounds' argument is deprecated and will be removed in a future release of LightGBM. Pass 'early_stopping()' callback via 'callbacks' argument instead.\n",
      "  _log_warning(\"'early_stopping_rounds' argument is deprecated and will be removed in a future release of LightGBM. \"\n",
      "C:\\Users\\analyticahouse\\Anaconda3\\lib\\site-packages\\lightgbm\\sklearn.py:736: UserWarning: 'verbose' argument is deprecated and will be removed in a future release of LightGBM. Pass 'log_evaluation()' callback via 'callbacks' argument instead.\n",
      "  _log_warning(\"'verbose' argument is deprecated and will be removed in a future release of LightGBM. \"\n"
     ]
    },
    {
     "name": "stdout",
     "output_type": "stream",
     "text": [
      "[800]\tvalid_0's auc: 0.958785\n",
      "[1000]\tvalid_0's auc: 0.953814\n",
      "[800]\tvalid_0's auc: 0.917037\n",
      "Fold 2 | Eval AUC: 0.9801257200998587\n",
      "\n",
      "----- FOLD 3 -----\n"
     ]
    },
    {
     "name": "stderr",
     "output_type": "stream",
     "text": [
      "C:\\Users\\analyticahouse\\Anaconda3\\lib\\site-packages\\lightgbm\\sklearn.py:726: UserWarning: 'early_stopping_rounds' argument is deprecated and will be removed in a future release of LightGBM. Pass 'early_stopping()' callback via 'callbacks' argument instead.\n",
      "  _log_warning(\"'early_stopping_rounds' argument is deprecated and will be removed in a future release of LightGBM. \"\n",
      "C:\\Users\\analyticahouse\\Anaconda3\\lib\\site-packages\\lightgbm\\sklearn.py:736: UserWarning: 'verbose' argument is deprecated and will be removed in a future release of LightGBM. Pass 'log_evaluation()' callback via 'callbacks' argument instead.\n",
      "  _log_warning(\"'verbose' argument is deprecated and will be removed in a future release of LightGBM. \"\n"
     ]
    },
    {
     "name": "stdout",
     "output_type": "stream",
     "text": [
      "[1200]\tvalid_0's auc: 0.953824\n",
      "Fold 3 | Eval AUC: 0.9540214251033439\n",
      "\n",
      "----- FOLD 4 -----\n"
     ]
    },
    {
     "name": "stderr",
     "output_type": "stream",
     "text": [
      "C:\\Users\\analyticahouse\\Anaconda3\\lib\\site-packages\\lightgbm\\sklearn.py:726: UserWarning: 'early_stopping_rounds' argument is deprecated and will be removed in a future release of LightGBM. Pass 'early_stopping()' callback via 'callbacks' argument instead.\n",
      "  _log_warning(\"'early_stopping_rounds' argument is deprecated and will be removed in a future release of LightGBM. \"\n",
      "C:\\Users\\analyticahouse\\Anaconda3\\lib\\site-packages\\lightgbm\\sklearn.py:736: UserWarning: 'verbose' argument is deprecated and will be removed in a future release of LightGBM. Pass 'log_evaluation()' callback via 'callbacks' argument instead.\n",
      "  _log_warning(\"'verbose' argument is deprecated and will be removed in a future release of LightGBM. \"\n"
     ]
    },
    {
     "name": "stdout",
     "output_type": "stream",
     "text": [
      "[600]\tvalid_0's auc: 0.927627\n",
      "[1000]\tvalid_0's auc: 0.917549\n",
      "[1200]\tvalid_0's auc: 0.917549\n",
      "Fold 2 | Eval AUC: 0.9175467854091507\n",
      "\n",
      "----- FOLD 3 -----\n"
     ]
    },
    {
     "name": "stderr",
     "output_type": "stream",
     "text": [
      "C:\\Users\\analyticahouse\\Anaconda3\\lib\\site-packages\\lightgbm\\sklearn.py:726: UserWarning: 'early_stopping_rounds' argument is deprecated and will be removed in a future release of LightGBM. Pass 'early_stopping()' callback via 'callbacks' argument instead.\n",
      "  _log_warning(\"'early_stopping_rounds' argument is deprecated and will be removed in a future release of LightGBM. \"\n",
      "C:\\Users\\analyticahouse\\Anaconda3\\lib\\site-packages\\lightgbm\\sklearn.py:736: UserWarning: 'verbose' argument is deprecated and will be removed in a future release of LightGBM. Pass 'log_evaluation()' callback via 'callbacks' argument instead.\n",
      "  _log_warning(\"'verbose' argument is deprecated and will be removed in a future release of LightGBM. \"\n"
     ]
    },
    {
     "name": "stdout",
     "output_type": "stream",
     "text": [
      "[1000]\tvalid_0's auc: 0.959005\n",
      "[200]\tvalid_0's auc: 0.935154\n",
      "[200]\tvalid_0's auc: 0.963208\n",
      "[800]\tvalid_0's auc: 0.928098\n",
      "[1200]\tvalid_0's auc: 0.959092\n",
      "[1000]\tvalid_0's auc: 0.928544\n",
      "[400]\tvalid_0's auc: 0.967728\n",
      "[1400]\tvalid_0's auc: 0.959225\n",
      "[200]\tvalid_0's auc: 0.978306\n",
      "[400]\tvalid_0's auc: 0.94182\n",
      "[1200]\tvalid_0's auc: 0.928991\n",
      "[1600]\tvalid_0's auc: 0.959254\n",
      "[1400]\tvalid_0's auc: 0.928926\n",
      "[1800]\tvalid_0's auc: 0.959257\n",
      "Fold 2 | Eval AUC: 0.9291359568903723\n",
      "\n",
      "----- FOLD 3 -----\n"
     ]
    },
    {
     "name": "stderr",
     "output_type": "stream",
     "text": [
      "C:\\Users\\analyticahouse\\Anaconda3\\lib\\site-packages\\lightgbm\\sklearn.py:726: UserWarning: 'early_stopping_rounds' argument is deprecated and will be removed in a future release of LightGBM. Pass 'early_stopping()' callback via 'callbacks' argument instead.\n",
      "  _log_warning(\"'early_stopping_rounds' argument is deprecated and will be removed in a future release of LightGBM. \"\n",
      "C:\\Users\\analyticahouse\\Anaconda3\\lib\\site-packages\\lightgbm\\sklearn.py:736: UserWarning: 'verbose' argument is deprecated and will be removed in a future release of LightGBM. Pass 'log_evaluation()' callback via 'callbacks' argument instead.\n",
      "  _log_warning(\"'verbose' argument is deprecated and will be removed in a future release of LightGBM. \"\n"
     ]
    },
    {
     "name": "stdout",
     "output_type": "stream",
     "text": [
      "[200]\tvalid_0's auc: 0.976664\n",
      "Fold 1 | Eval AUC: 0.9592814391851521\n",
      "\n",
      "----- FOLD 2 -----\n",
      "[200]\tvalid_0's auc: 0.921979\n"
     ]
    },
    {
     "name": "stderr",
     "output_type": "stream",
     "text": [
      "C:\\Users\\analyticahouse\\Anaconda3\\lib\\site-packages\\lightgbm\\sklearn.py:726: UserWarning: 'early_stopping_rounds' argument is deprecated and will be removed in a future release of LightGBM. Pass 'early_stopping()' callback via 'callbacks' argument instead.\n",
      "  _log_warning(\"'early_stopping_rounds' argument is deprecated and will be removed in a future release of LightGBM. \"\n",
      "C:\\Users\\analyticahouse\\Anaconda3\\lib\\site-packages\\lightgbm\\sklearn.py:736: UserWarning: 'verbose' argument is deprecated and will be removed in a future release of LightGBM. Pass 'log_evaluation()' callback via 'callbacks' argument instead.\n",
      "  _log_warning(\"'verbose' argument is deprecated and will be removed in a future release of LightGBM. \"\n"
     ]
    },
    {
     "name": "stdout",
     "output_type": "stream",
     "text": [
      "[600]\tvalid_0's auc: 0.943395\n",
      "[600]\tvalid_0's auc: 0.968574\n",
      "[400]\tvalid_0's auc: 0.980147\n",
      "[800]\tvalid_0's auc: 0.94532\n",
      "[200]\tvalid_0's auc: 0.944711\n",
      "[800]\tvalid_0's auc: 0.96896\n",
      "[400]\tvalid_0's auc: 0.97679\n",
      "[1000]\tvalid_0's auc: 0.946133\n",
      "[1200]\tvalid_0's auc: 0.946803\n",
      "[600]\tvalid_0's auc: 0.979903\n",
      "[1400]\tvalid_0's auc: 0.94684\n",
      "[400]\tvalid_0's auc: 0.923736\n",
      "[1600]\tvalid_0's auc: 0.946839\n",
      "Fold 3 | Eval AUC: 0.9468392938166084\n",
      "\n",
      "----- FOLD 4 -----\n"
     ]
    },
    {
     "name": "stderr",
     "output_type": "stream",
     "text": [
      "C:\\Users\\analyticahouse\\Anaconda3\\lib\\site-packages\\lightgbm\\sklearn.py:726: UserWarning: 'early_stopping_rounds' argument is deprecated and will be removed in a future release of LightGBM. Pass 'early_stopping()' callback via 'callbacks' argument instead.\n",
      "  _log_warning(\"'early_stopping_rounds' argument is deprecated and will be removed in a future release of LightGBM. \"\n",
      "C:\\Users\\analyticahouse\\Anaconda3\\lib\\site-packages\\lightgbm\\sklearn.py:736: UserWarning: 'verbose' argument is deprecated and will be removed in a future release of LightGBM. Pass 'log_evaluation()' callback via 'callbacks' argument instead.\n",
      "  _log_warning(\"'verbose' argument is deprecated and will be removed in a future release of LightGBM. \"\n"
     ]
    },
    {
     "name": "stdout",
     "output_type": "stream",
     "text": [
      "Fold 3 | Eval AUC: 0.9770360760573947\n",
      "\n",
      "----- FOLD 4 -----\n"
     ]
    },
    {
     "name": "stderr",
     "output_type": "stream",
     "text": [
      "C:\\Users\\analyticahouse\\Anaconda3\\lib\\site-packages\\lightgbm\\sklearn.py:726: UserWarning: 'early_stopping_rounds' argument is deprecated and will be removed in a future release of LightGBM. Pass 'early_stopping()' callback via 'callbacks' argument instead.\n",
      "  _log_warning(\"'early_stopping_rounds' argument is deprecated and will be removed in a future release of LightGBM. \"\n",
      "C:\\Users\\analyticahouse\\Anaconda3\\lib\\site-packages\\lightgbm\\sklearn.py:736: UserWarning: 'verbose' argument is deprecated and will be removed in a future release of LightGBM. Pass 'log_evaluation()' callback via 'callbacks' argument instead.\n",
      "  _log_warning(\"'verbose' argument is deprecated and will be removed in a future release of LightGBM. \"\n",
      "\u001b[32m[I 2021-11-29 19:44:54,397]\u001b[0m Trial 4 finished with value: 0.9601866056493087 and parameters: {'reg_alpha': 7.963812487912805, 'reg_lambda': 5.972050874333408, 'num_leaves': 929, 'min_child_samples': 91, 'max_depth': 11, 'colsample_bytree': 0.46413831883652845, 'cat_smooth': 42, 'cat_l2': 11, 'min_data_per_group': 194}. Best is trial 4 with value: 0.9601866056493087.\u001b[0m\n"
     ]
    },
    {
     "name": "stdout",
     "output_type": "stream",
     "text": [
      "Fold 4 | Eval AUC: 0.9802175352805638\n",
      "\n",
      "------ 5-fold evaluation -----\n",
      "{'reg_alpha': 6.768124926335319, 'reg_lambda': 6.167002911527738, 'num_leaves': 239, 'min_child_samples': 82, 'max_depth': 60, 'colsample_bytree': 0.20324257072828514, 'cat_smooth': 74, 'cat_l2': 15, 'min_data_per_group': 193, 'is_unbalance': True, 'verbose': 2, 'n_estimators': 10000, 'learning_rate': 0.05, 'metric': 'auc'}\n",
      "\n",
      "----- FOLD 0 -----\n"
     ]
    },
    {
     "name": "stderr",
     "output_type": "stream",
     "text": [
      "C:\\Users\\analyticahouse\\Anaconda3\\lib\\site-packages\\lightgbm\\sklearn.py:726: UserWarning: 'early_stopping_rounds' argument is deprecated and will be removed in a future release of LightGBM. Pass 'early_stopping()' callback via 'callbacks' argument instead.\n",
      "  _log_warning(\"'early_stopping_rounds' argument is deprecated and will be removed in a future release of LightGBM. \"\n",
      "C:\\Users\\analyticahouse\\Anaconda3\\lib\\site-packages\\lightgbm\\sklearn.py:736: UserWarning: 'verbose' argument is deprecated and will be removed in a future release of LightGBM. Pass 'log_evaluation()' callback via 'callbacks' argument instead.\n",
      "  _log_warning(\"'verbose' argument is deprecated and will be removed in a future release of LightGBM. \"\n"
     ]
    },
    {
     "name": "stdout",
     "output_type": "stream",
     "text": [
      "[1000]\tvalid_0's auc: 0.969261\n",
      "[400]\tvalid_0's auc: 0.950746\n",
      "[200]\tvalid_0's auc: 0.94979\n",
      "[600]\tvalid_0's auc: 0.926009\n",
      "[1200]\tvalid_0's auc: 0.969531\n",
      "[600]\tvalid_0's auc: 0.953282\n",
      "[200]\tvalid_0's auc: 0.955713\n",
      "[200]\tvalid_0's auc: 0.923635\n",
      "[200]\tvalid_0's auc: 0.961355\n",
      "[800]\tvalid_0's auc: 0.954302\n",
      "[800]\tvalid_0's auc: 0.92736\n",
      "[1400]\tvalid_0's auc: 0.969838\n",
      "[200]\tvalid_0's auc: 0.982964\n",
      "[400]\tvalid_0's auc: 0.95595\n",
      "[1000]\tvalid_0's auc: 0.954809\n",
      "[1200]\tvalid_0's auc: 0.954863\n",
      "Fold 3 | Eval AUC: 0.9548981135890968\n",
      "\n",
      "----- FOLD 4 -----\n"
     ]
    },
    {
     "name": "stderr",
     "output_type": "stream",
     "text": [
      "C:\\Users\\analyticahouse\\Anaconda3\\lib\\site-packages\\lightgbm\\sklearn.py:726: UserWarning: 'early_stopping_rounds' argument is deprecated and will be removed in a future release of LightGBM. Pass 'early_stopping()' callback via 'callbacks' argument instead.\n",
      "  _log_warning(\"'early_stopping_rounds' argument is deprecated and will be removed in a future release of LightGBM. \"\n",
      "C:\\Users\\analyticahouse\\Anaconda3\\lib\\site-packages\\lightgbm\\sklearn.py:736: UserWarning: 'verbose' argument is deprecated and will be removed in a future release of LightGBM. Pass 'log_evaluation()' callback via 'callbacks' argument instead.\n",
      "  _log_warning(\"'verbose' argument is deprecated and will be removed in a future release of LightGBM. \"\n"
     ]
    },
    {
     "name": "stdout",
     "output_type": "stream",
     "text": [
      "[1000]\tvalid_0's auc: 0.928012\n",
      "[400]\tvalid_0's auc: 0.966811\n",
      "[1600]\tvalid_0's auc: 0.969734\n",
      "[400]\tvalid_0's auc: 0.96911\n",
      "Fold 2 | Eval AUC: 0.9699004839885876\n",
      "\n",
      "----- FOLD 3 -----\n"
     ]
    },
    {
     "name": "stderr",
     "output_type": "stream",
     "text": [
      "C:\\Users\\analyticahouse\\Anaconda3\\lib\\site-packages\\lightgbm\\sklearn.py:726: UserWarning: 'early_stopping_rounds' argument is deprecated and will be removed in a future release of LightGBM. Pass 'early_stopping()' callback via 'callbacks' argument instead.\n",
      "  _log_warning(\"'early_stopping_rounds' argument is deprecated and will be removed in a future release of LightGBM. \"\n",
      "C:\\Users\\analyticahouse\\Anaconda3\\lib\\site-packages\\lightgbm\\sklearn.py:736: UserWarning: 'verbose' argument is deprecated and will be removed in a future release of LightGBM. Pass 'log_evaluation()' callback via 'callbacks' argument instead.\n",
      "  _log_warning(\"'verbose' argument is deprecated and will be removed in a future release of LightGBM. \"\n"
     ]
    },
    {
     "name": "stdout",
     "output_type": "stream",
     "text": [
      "[1200]\tvalid_0's auc: 0.92893\n",
      "[600]\tvalid_0's auc: 0.957976\n",
      "[600]\tvalid_0's auc: 0.968784\n",
      "[400]\tvalid_0's auc: 0.982734\n",
      "[1400]\tvalid_0's auc: 0.92984\n",
      "[400]\tvalid_0's auc: 0.925675\n",
      "[800]\tvalid_0's auc: 0.95944\n",
      "[1600]\tvalid_0's auc: 0.930128\n",
      "[600]\tvalid_0's auc: 0.970975\n",
      "[800]\tvalid_0's auc: 0.969285\n",
      "[1800]\tvalid_0's auc: 0.930138\n",
      "[200]\tvalid_0's auc: 0.939568\n",
      "[2000]\tvalid_0's auc: 0.930138\n"
     ]
    },
    {
     "name": "stderr",
     "output_type": "stream",
     "text": [
      "\u001b[32m[I 2021-11-29 19:48:44,297]\u001b[0m Trial 5 finished with value: 0.9771754678132869 and parameters: {'reg_alpha': 6.631260077505554, 'reg_lambda': 7.241052182560413, 'num_leaves': 463, 'min_child_samples': 16, 'max_depth': 50, 'colsample_bytree': 0.1282079690439505, 'cat_smooth': 54, 'cat_l2': 5, 'min_data_per_group': 87}. Best is trial 5 with value: 0.9771754678132869.\u001b[0m\n"
     ]
    },
    {
     "name": "stdout",
     "output_type": "stream",
     "text": [
      "Fold 4 | Eval AUC: 0.9832927992683689\n",
      "\n",
      "------ 5-fold evaluation -----\n",
      "{'reg_alpha': 9.650019109009078, 'reg_lambda': 8.247761503909386, 'num_leaves': 76, 'min_child_samples': 82, 'max_depth': 20, 'colsample_bytree': 0.45502098103992694, 'cat_smooth': 29, 'cat_l2': 16, 'min_data_per_group': 84, 'is_unbalance': True, 'verbose': 2, 'n_estimators': 10000, 'learning_rate': 0.05, 'metric': 'auc'}\n",
      "\n",
      "----- FOLD 0 -----\n"
     ]
    },
    {
     "name": "stderr",
     "output_type": "stream",
     "text": [
      "C:\\Users\\analyticahouse\\Anaconda3\\lib\\site-packages\\lightgbm\\sklearn.py:726: UserWarning: 'early_stopping_rounds' argument is deprecated and will be removed in a future release of LightGBM. Pass 'early_stopping()' callback via 'callbacks' argument instead.\n",
      "  _log_warning(\"'early_stopping_rounds' argument is deprecated and will be removed in a future release of LightGBM. \"\n",
      "C:\\Users\\analyticahouse\\Anaconda3\\lib\\site-packages\\lightgbm\\sklearn.py:736: UserWarning: 'verbose' argument is deprecated and will be removed in a future release of LightGBM. Pass 'log_evaluation()' callback via 'callbacks' argument instead.\n",
      "  _log_warning(\"'verbose' argument is deprecated and will be removed in a future release of LightGBM. \"\n"
     ]
    },
    {
     "name": "stdout",
     "output_type": "stream",
     "text": [
      "[2200]\tvalid_0's auc: 0.930138\n",
      "Fold 2 | Eval AUC: 0.9301377440859251\n",
      "\n",
      "----- FOLD 3 -----\n"
     ]
    },
    {
     "name": "stderr",
     "output_type": "stream",
     "text": [
      "C:\\Users\\analyticahouse\\Anaconda3\\lib\\site-packages\\lightgbm\\sklearn.py:726: UserWarning: 'early_stopping_rounds' argument is deprecated and will be removed in a future release of LightGBM. Pass 'early_stopping()' callback via 'callbacks' argument instead.\n",
      "  _log_warning(\"'early_stopping_rounds' argument is deprecated and will be removed in a future release of LightGBM. \"\n",
      "C:\\Users\\analyticahouse\\Anaconda3\\lib\\site-packages\\lightgbm\\sklearn.py:736: UserWarning: 'verbose' argument is deprecated and will be removed in a future release of LightGBM. Pass 'log_evaluation()' callback via 'callbacks' argument instead.\n",
      "  _log_warning(\"'verbose' argument is deprecated and will be removed in a future release of LightGBM. \"\n"
     ]
    },
    {
     "name": "stdout",
     "output_type": "stream",
     "text": [
      "[1000]\tvalid_0's auc: 0.969409\n",
      "[1000]\tvalid_0's auc: 0.960319\n",
      "[800]\tvalid_0's auc: 0.971758\n",
      "[1200]\tvalid_0's auc: 0.969684\n",
      "[1400]\tvalid_0's auc: 0.969672\n",
      "[200]\tvalid_0's auc: 0.978248\n",
      "[1600]\tvalid_0's auc: 0.969717\n",
      "[1200]\tvalid_0's auc: 0.960829\n",
      "[200]\tvalid_0's auc: 0.959753\n",
      "[400]\tvalid_0's auc: 0.950353\n",
      "[1800]\tvalid_0's auc: 0.969718\n"
     ]
    }
   ],
   "source": [
    "# Optimization\n",
    "study = optuna.create_study(direction='maximize')\n",
    "study.optimize(objective, timeout= 3600*0.75, n_jobs = -1)"
   ]
  },
  {
   "cell_type": "code",
   "execution_count": 70,
   "id": "55b00e9d",
   "metadata": {},
   "outputs": [],
   "source": [
    "BEST_PARAMS = {'reg_alpha': 7.714425597409395, \n",
    "               'reg_lambda': 5.663580655710298, 'num_leaves': 5, 'min_child_samples': 81, 'max_depth': 19,\n",
    "               'colsample_bytree': 0.15871987715954747, 'cat_smooth': 16,\n",
    "               \"n_estimators\": 10000,\n",
    "               \"learning_rate\": 0.005,\n",
    "               \"metric\": \"auc\",\n",
    "               \"objective\": \"binary\",\n",
    "               'cat_l2': 7, 'min_data_per_group': 116}\n",
    "#0.9869"
   ]
  },
  {
   "cell_type": "code",
   "execution_count": 78,
   "id": "f04cddcb",
   "metadata": {},
   "outputs": [],
   "source": [
    "BEST_PARAMS.update(study.best_params)\n",
    "BEST_PARAMS.update({\"learning_rate\" : 0.005})"
   ]
  },
  {
   "cell_type": "code",
   "execution_count": 64,
   "id": "13496ba8",
   "metadata": {},
   "outputs": [],
   "source": [
    "BEST_PARAMS = {'reg_alpha': 3.5790836474960503, 'reg_lambda': 6.413343394503462, 'num_leaves': 15, 'n_estimators': 10000,\n",
    "               \"metric\" : \"auc\",\n",
    "               \"objective\": \"binary\",\n",
    "               \"learning_rate\" : 0.005,\n",
    "               'min_child_samples': 61, 'max_depth': 21, 'colsample_bytree': 0.12185204941673947, \n",
    "               'cat_smooth': 58, 'cat_l2': 15, 'min_data_per_group': 154}"
   ]
  },
  {
   "cell_type": "code",
   "execution_count": 14,
   "id": "ad4a4a07",
   "metadata": {},
   "outputs": [],
   "source": [
    "BEST_PARAMS = {'reg_alpha': 4.666805786199625, 'reg_lambda': 9.928178820417113, 'num_leaves': 552, \n",
    "               'min_child_samples': 49, 'max_depth': 20, 'n_estimators': 10000,\n",
    " 'learning_rate': 0.005,\n",
    " 'metric': 'auc',\n",
    "               'colsample_bytree': 0.2940671359326277, 'cat_smooth': 58, 'cat_l2': 4, 'min_data_per_group': 81}"
   ]
  },
  {
   "cell_type": "code",
   "execution_count": 25,
   "id": "e8884e8c",
   "metadata": {},
   "outputs": [
    {
     "data": {
      "text/plain": [
       "{'n_estimators': 10000,\n",
       " 'learning_rate': 0.05,\n",
       " 'metric': 'auc',\n",
       " 'reg_alpha': 9.250545911496724,\n",
       " 'reg_lambda': 7.721831841556209,\n",
       " 'num_leaves': 5,\n",
       " 'min_child_samples': 12,\n",
       " 'max_depth': 50,\n",
       " 'colsample_bytree': 0.4395938386171192,\n",
       " 'cat_smooth': 34,\n",
       " 'cat_l2': 19,\n",
       " 'min_data_per_group': 110}"
      ]
     },
     "execution_count": 25,
     "metadata": {},
     "output_type": "execute_result"
    }
   ],
   "source": [
    "BEST_PARAMS.update(study.best_params)\n",
    "BEST_PARAMS"
   ]
  },
  {
   "cell_type": "code",
   "execution_count": 26,
   "id": "652a83c2",
   "metadata": {},
   "outputs": [],
   "source": [
    "BEST_PARAMS = {'n_estimators': 10000,\n",
    " 'learning_rate': 0.005,\n",
    " 'metric': 'auc',\n",
    " 'reg_alpha': 9.250545911496724,\n",
    " 'reg_lambda': 7.721831841556209,\n",
    " 'num_leaves': 5,\n",
    " 'min_child_samples': 12,\n",
    " 'max_depth': 50,\n",
    " 'colsample_bytree': 0.4395938386171192,\n",
    " 'cat_smooth': 34,\n",
    " 'cat_l2': 19,\n",
    " 'min_data_per_group': 110}"
   ]
  },
  {
   "cell_type": "code",
   "execution_count": 86,
   "id": "2ad7ce0e",
   "metadata": {},
   "outputs": [
    {
     "name": "stderr",
     "output_type": "stream",
     "text": [
      "C:\\Users\\ANALYT~1\\AppData\\Local\\Temp/ipykernel_7580/1857205077.py:1: FutureWarning: In a future version of pandas all arguments of DataFrame.drop except for the argument 'labels' will be keyword-only\n",
      "  test[\"target\"] = kfold_prediction(X, Y, test.drop([\"target\"],1), 5, BEST_PARAMS, 500)\n",
      "C:\\Users\\analyticahouse\\Anaconda3\\lib\\site-packages\\lightgbm\\sklearn.py:726: UserWarning: 'early_stopping_rounds' argument is deprecated and will be removed in a future release of LightGBM. Pass 'early_stopping()' callback via 'callbacks' argument instead.\n",
      "  _log_warning(\"'early_stopping_rounds' argument is deprecated and will be removed in a future release of LightGBM. \"\n",
      "C:\\Users\\analyticahouse\\Anaconda3\\lib\\site-packages\\lightgbm\\sklearn.py:736: UserWarning: 'verbose' argument is deprecated and will be removed in a future release of LightGBM. Pass 'log_evaluation()' callback via 'callbacks' argument instead.\n",
      "  _log_warning(\"'verbose' argument is deprecated and will be removed in a future release of LightGBM. \"\n"
     ]
    },
    {
     "name": "stdout",
     "output_type": "stream",
     "text": [
      "\n",
      "------ 5-fold evaluation -----\n",
      "{'n_estimators': 10000, 'learning_rate': 0.005, 'metric': 'auc', 'reg_alpha': 7.1828967429274435, 'reg_lambda': 6.8978587137938, 'num_leaves': 665, 'min_child_samples': 39, 'max_depth': 6, 'colsample_bytree': 0.42817622930503163, 'cat_smooth': 92, 'cat_l2': 17, 'min_data_per_group': 189}\n",
      "\n",
      "----- FOLD 0 -----\n",
      "[200]\tvalid_0's auc: 0.984053\n",
      "[400]\tvalid_0's auc: 0.985243\n",
      "[600]\tvalid_0's auc: 0.985985\n",
      "[800]\tvalid_0's auc: 0.986288\n",
      "[1000]\tvalid_0's auc: 0.986384\n",
      "[1200]\tvalid_0's auc: 0.986416\n",
      "[1400]\tvalid_0's auc: 0.986416\n",
      "[1600]\tvalid_0's auc: 0.986437\n",
      "[1800]\tvalid_0's auc: 0.986447\n",
      "[2000]\tvalid_0's auc: 0.986489\n",
      "[2200]\tvalid_0's auc: 0.986528\n",
      "[2400]\tvalid_0's auc: 0.986529\n",
      "[2600]\tvalid_0's auc: 0.986558\n",
      "[2800]\tvalid_0's auc: 0.986588\n",
      "[3000]\tvalid_0's auc: 0.986589\n",
      "[3200]\tvalid_0's auc: 0.986574\n",
      "\n",
      "----- FOLD 1 -----\n"
     ]
    },
    {
     "name": "stderr",
     "output_type": "stream",
     "text": [
      "C:\\Users\\analyticahouse\\Anaconda3\\lib\\site-packages\\lightgbm\\sklearn.py:726: UserWarning: 'early_stopping_rounds' argument is deprecated and will be removed in a future release of LightGBM. Pass 'early_stopping()' callback via 'callbacks' argument instead.\n",
      "  _log_warning(\"'early_stopping_rounds' argument is deprecated and will be removed in a future release of LightGBM. \"\n",
      "C:\\Users\\analyticahouse\\Anaconda3\\lib\\site-packages\\lightgbm\\sklearn.py:736: UserWarning: 'verbose' argument is deprecated and will be removed in a future release of LightGBM. Pass 'log_evaluation()' callback via 'callbacks' argument instead.\n",
      "  _log_warning(\"'verbose' argument is deprecated and will be removed in a future release of LightGBM. \"\n"
     ]
    },
    {
     "name": "stdout",
     "output_type": "stream",
     "text": [
      "[200]\tvalid_0's auc: 0.979769\n",
      "[400]\tvalid_0's auc: 0.981416\n",
      "[600]\tvalid_0's auc: 0.982902\n",
      "[800]\tvalid_0's auc: 0.984226\n",
      "[1000]\tvalid_0's auc: 0.985046\n",
      "[1200]\tvalid_0's auc: 0.985603\n",
      "[1400]\tvalid_0's auc: 0.986006\n",
      "[1600]\tvalid_0's auc: 0.9863\n",
      "[1800]\tvalid_0's auc: 0.986562\n",
      "[2000]\tvalid_0's auc: 0.98668\n",
      "[2200]\tvalid_0's auc: 0.986678\n",
      "[2400]\tvalid_0's auc: 0.986685\n",
      "[2600]\tvalid_0's auc: 0.986659\n",
      "[2800]\tvalid_0's auc: 0.986577\n",
      "\n",
      "----- FOLD 2 -----\n"
     ]
    },
    {
     "name": "stderr",
     "output_type": "stream",
     "text": [
      "C:\\Users\\analyticahouse\\Anaconda3\\lib\\site-packages\\lightgbm\\sklearn.py:726: UserWarning: 'early_stopping_rounds' argument is deprecated and will be removed in a future release of LightGBM. Pass 'early_stopping()' callback via 'callbacks' argument instead.\n",
      "  _log_warning(\"'early_stopping_rounds' argument is deprecated and will be removed in a future release of LightGBM. \"\n",
      "C:\\Users\\analyticahouse\\Anaconda3\\lib\\site-packages\\lightgbm\\sklearn.py:736: UserWarning: 'verbose' argument is deprecated and will be removed in a future release of LightGBM. Pass 'log_evaluation()' callback via 'callbacks' argument instead.\n",
      "  _log_warning(\"'verbose' argument is deprecated and will be removed in a future release of LightGBM. \"\n"
     ]
    },
    {
     "name": "stdout",
     "output_type": "stream",
     "text": [
      "[200]\tvalid_0's auc: 0.979803\n",
      "[400]\tvalid_0's auc: 0.981147\n",
      "[600]\tvalid_0's auc: 0.982609\n",
      "[800]\tvalid_0's auc: 0.983781\n",
      "[1000]\tvalid_0's auc: 0.984532\n",
      "[1200]\tvalid_0's auc: 0.985\n",
      "[1400]\tvalid_0's auc: 0.985202\n",
      "[1600]\tvalid_0's auc: 0.985363\n",
      "[1800]\tvalid_0's auc: 0.985473\n",
      "[2000]\tvalid_0's auc: 0.985565\n",
      "[2200]\tvalid_0's auc: 0.985611\n",
      "[2400]\tvalid_0's auc: 0.985708\n",
      "[2600]\tvalid_0's auc: 0.985774\n",
      "[2800]\tvalid_0's auc: 0.985791\n",
      "[3000]\tvalid_0's auc: 0.985817\n",
      "[3200]\tvalid_0's auc: 0.985794\n",
      "[3400]\tvalid_0's auc: 0.985777\n",
      "\n",
      "----- FOLD 3 -----\n"
     ]
    },
    {
     "name": "stderr",
     "output_type": "stream",
     "text": [
      "C:\\Users\\analyticahouse\\Anaconda3\\lib\\site-packages\\lightgbm\\sklearn.py:726: UserWarning: 'early_stopping_rounds' argument is deprecated and will be removed in a future release of LightGBM. Pass 'early_stopping()' callback via 'callbacks' argument instead.\n",
      "  _log_warning(\"'early_stopping_rounds' argument is deprecated and will be removed in a future release of LightGBM. \"\n",
      "C:\\Users\\analyticahouse\\Anaconda3\\lib\\site-packages\\lightgbm\\sklearn.py:736: UserWarning: 'verbose' argument is deprecated and will be removed in a future release of LightGBM. Pass 'log_evaluation()' callback via 'callbacks' argument instead.\n",
      "  _log_warning(\"'verbose' argument is deprecated and will be removed in a future release of LightGBM. \"\n"
     ]
    },
    {
     "name": "stdout",
     "output_type": "stream",
     "text": [
      "[200]\tvalid_0's auc: 0.983845\n",
      "[400]\tvalid_0's auc: 0.984777\n",
      "[600]\tvalid_0's auc: 0.985788\n",
      "[800]\tvalid_0's auc: 0.9869\n",
      "[1000]\tvalid_0's auc: 0.987798\n",
      "[1200]\tvalid_0's auc: 0.988359\n",
      "[1400]\tvalid_0's auc: 0.988758\n",
      "[1600]\tvalid_0's auc: 0.989082\n",
      "[1800]\tvalid_0's auc: 0.989379\n",
      "[2000]\tvalid_0's auc: 0.989578\n",
      "[2200]\tvalid_0's auc: 0.989729\n",
      "[2400]\tvalid_0's auc: 0.989842\n",
      "[2600]\tvalid_0's auc: 0.989892\n",
      "[2800]\tvalid_0's auc: 0.989942\n",
      "[3000]\tvalid_0's auc: 0.989982\n",
      "[3200]\tvalid_0's auc: 0.990001\n",
      "[3400]\tvalid_0's auc: 0.990023\n",
      "[3600]\tvalid_0's auc: 0.990014\n",
      "[3800]\tvalid_0's auc: 0.989974\n",
      "\n",
      "----- FOLD 4 -----\n"
     ]
    },
    {
     "name": "stderr",
     "output_type": "stream",
     "text": [
      "C:\\Users\\analyticahouse\\Anaconda3\\lib\\site-packages\\lightgbm\\sklearn.py:726: UserWarning: 'early_stopping_rounds' argument is deprecated and will be removed in a future release of LightGBM. Pass 'early_stopping()' callback via 'callbacks' argument instead.\n",
      "  _log_warning(\"'early_stopping_rounds' argument is deprecated and will be removed in a future release of LightGBM. \"\n",
      "C:\\Users\\analyticahouse\\Anaconda3\\lib\\site-packages\\lightgbm\\sklearn.py:736: UserWarning: 'verbose' argument is deprecated and will be removed in a future release of LightGBM. Pass 'log_evaluation()' callback via 'callbacks' argument instead.\n",
      "  _log_warning(\"'verbose' argument is deprecated and will be removed in a future release of LightGBM. \"\n"
     ]
    },
    {
     "name": "stdout",
     "output_type": "stream",
     "text": [
      "[200]\tvalid_0's auc: 0.984316\n",
      "[400]\tvalid_0's auc: 0.985427\n",
      "[600]\tvalid_0's auc: 0.986711\n",
      "[800]\tvalid_0's auc: 0.988204\n",
      "[1000]\tvalid_0's auc: 0.989038\n",
      "[1200]\tvalid_0's auc: 0.989474\n",
      "[1400]\tvalid_0's auc: 0.989739\n",
      "[1600]\tvalid_0's auc: 0.989916\n",
      "[1800]\tvalid_0's auc: 0.990106\n",
      "[2000]\tvalid_0's auc: 0.990211\n",
      "[2200]\tvalid_0's auc: 0.990332\n",
      "[2400]\tvalid_0's auc: 0.990461\n",
      "[2600]\tvalid_0's auc: 0.990552\n",
      "[2800]\tvalid_0's auc: 0.99063\n",
      "[3000]\tvalid_0's auc: 0.990682\n",
      "[3200]\tvalid_0's auc: 0.990697\n",
      "[3400]\tvalid_0's auc: 0.990704\n",
      "[3600]\tvalid_0's auc: 0.990723\n",
      "[3800]\tvalid_0's auc: 0.990734\n",
      "[4000]\tvalid_0's auc: 0.990705\n",
      "[4200]\tvalid_0's auc: 0.990678\n"
     ]
    }
   ],
   "source": [
    "test[\"target\"] = kfold_prediction(X, Y, test.drop([\"target\"],1), 5, BEST_PARAMS, 500)\n",
    "#test[\"target\"] = kfold_prediction(X, Y, test.drop([\"target\"],1), 5, BEST_PARAMS, 1000)"
   ]
  },
  {
   "cell_type": "code",
   "execution_count": 88,
   "id": "61190e30",
   "metadata": {},
   "outputs": [],
   "source": [
    "test.to_csv(\"lasttt.csv\", index = False)"
   ]
  },
  {
   "cell_type": "code",
   "execution_count": 75,
   "id": "c495f99b",
   "metadata": {
    "collapsed": true
   },
   "outputs": [
    {
     "name": "stderr",
     "output_type": "stream",
     "text": [
      "C:\\Users\\analyticahouse\\Anaconda3\\lib\\site-packages\\pandas\\util\\_decorators.py:311: SettingWithCopyWarning: \n",
      "A value is trying to be set on a copy of a slice from a DataFrame\n",
      "\n",
      "See the caveats in the documentation: https://pandas.pydata.org/pandas-docs/stable/user_guide/indexing.html#returning-a-view-versus-a-copy\n",
      "  return func(*args, **kwargs)\n",
      "C:\\Users\\analyticahouse\\Anaconda3\\lib\\site-packages\\pandas\\core\\frame.py:5039: SettingWithCopyWarning: \n",
      "A value is trying to be set on a copy of a slice from a DataFrame\n",
      "\n",
      "See the caveats in the documentation: https://pandas.pydata.org/pandas-docs/stable/user_guide/indexing.html#returning-a-view-versus-a-copy\n",
      "  return super().rename(\n",
      "C:\\Users\\ANALYT~1\\AppData\\Local\\Temp/ipykernel_12532/1728463734.py:7: FutureWarning: In a future version of pandas all arguments of DataFrame.drop except for the argument 'labels' will be keyword-only\n",
      "  subm.drop([\"Predicted\"], 1, inplace = True)\n"
     ]
    }
   ],
   "source": [
    "test = test[[\"ID\", \"target\"]].sort_values(\"ID\")\n",
    "submission_file = pd.read_csv(\"sample_submission.csv\")\n",
    "test.rename(columns = {\"ID\": \"Id\"}, inplace = True)\n",
    "subm = pd.merge(submission_file, test, on = \"Id\")\n",
    "subm.drop([\"Predicted\"], 1, inplace = True)\n",
    "subm.rename(columns = {\"target\": \"Predicted\"}, inplace = True)"
   ]
  },
  {
   "cell_type": "code",
   "execution_count": 81,
   "id": "0aa86ea8",
   "metadata": {},
   "outputs": [],
   "source": [
    "subm.to_csv(\"encoding2_excluding_smt9869.csv\", index = False)"
   ]
  },
  {
   "cell_type": "code",
   "execution_count": 84,
   "id": "239fac2e",
   "metadata": {},
   "outputs": [
    {
     "data": {
      "text/html": [
       "<div>\n",
       "<style scoped>\n",
       "    .dataframe tbody tr th:only-of-type {\n",
       "        vertical-align: middle;\n",
       "    }\n",
       "\n",
       "    .dataframe tbody tr th {\n",
       "        vertical-align: top;\n",
       "    }\n",
       "\n",
       "    .dataframe thead th {\n",
       "        text-align: right;\n",
       "    }\n",
       "</style>\n",
       "<table border=\"1\" class=\"dataframe\">\n",
       "  <thead>\n",
       "    <tr style=\"text-align: right;\">\n",
       "      <th></th>\n",
       "      <th>Id</th>\n",
       "      <th>Predicted</th>\n",
       "    </tr>\n",
       "  </thead>\n",
       "  <tbody>\n",
       "    <tr>\n",
       "      <th>16188</th>\n",
       "      <td>16188</td>\n",
       "      <td>0.921887</td>\n",
       "    </tr>\n",
       "    <tr>\n",
       "      <th>34630</th>\n",
       "      <td>34630</td>\n",
       "      <td>0.930932</td>\n",
       "    </tr>\n",
       "    <tr>\n",
       "      <th>34631</th>\n",
       "      <td>34631</td>\n",
       "      <td>0.948788</td>\n",
       "    </tr>\n",
       "    <tr>\n",
       "      <th>34634</th>\n",
       "      <td>34634</td>\n",
       "      <td>0.957301</td>\n",
       "    </tr>\n",
       "    <tr>\n",
       "      <th>34635</th>\n",
       "      <td>34635</td>\n",
       "      <td>0.903029</td>\n",
       "    </tr>\n",
       "    <tr>\n",
       "      <th>...</th>\n",
       "      <td>...</td>\n",
       "      <td>...</td>\n",
       "    </tr>\n",
       "    <tr>\n",
       "      <th>308067</th>\n",
       "      <td>308067</td>\n",
       "      <td>0.968678</td>\n",
       "    </tr>\n",
       "    <tr>\n",
       "      <th>308068</th>\n",
       "      <td>308068</td>\n",
       "      <td>0.975047</td>\n",
       "    </tr>\n",
       "    <tr>\n",
       "      <th>308069</th>\n",
       "      <td>308069</td>\n",
       "      <td>0.968469</td>\n",
       "    </tr>\n",
       "    <tr>\n",
       "      <th>322837</th>\n",
       "      <td>322837</td>\n",
       "      <td>0.948950</td>\n",
       "    </tr>\n",
       "    <tr>\n",
       "      <th>322838</th>\n",
       "      <td>322838</td>\n",
       "      <td>0.917647</td>\n",
       "    </tr>\n",
       "  </tbody>\n",
       "</table>\n",
       "<p>165 rows × 2 columns</p>\n",
       "</div>"
      ],
      "text/plain": [
       "            Id  Predicted\n",
       "16188    16188   0.921887\n",
       "34630    34630   0.930932\n",
       "34631    34631   0.948788\n",
       "34634    34634   0.957301\n",
       "34635    34635   0.903029\n",
       "...        ...        ...\n",
       "308067  308067   0.968678\n",
       "308068  308068   0.975047\n",
       "308069  308069   0.968469\n",
       "322837  322837   0.948950\n",
       "322838  322838   0.917647\n",
       "\n",
       "[165 rows x 2 columns]"
      ]
     },
     "execution_count": 84,
     "metadata": {},
     "output_type": "execute_result"
    }
   ],
   "source": [
    "subm.loc[subm.Predicted > 0.90]"
   ]
  },
  {
   "cell_type": "code",
   "execution_count": 105,
   "id": "24876006",
   "metadata": {},
   "outputs": [],
   "source": [
    "frauds = test.loc[test.Predicted > 0.90].Id.tolist()\n",
    "test.loc[test.Id.isin(frauds), \"target\"] = 1"
   ]
  },
  {
   "cell_type": "code",
   "execution_count": 93,
   "id": "7a9fd4bb",
   "metadata": {},
   "outputs": [
    {
     "data": {
      "text/html": [
       "<div>\n",
       "<style scoped>\n",
       "    .dataframe tbody tr th:only-of-type {\n",
       "        vertical-align: middle;\n",
       "    }\n",
       "\n",
       "    .dataframe tbody tr th {\n",
       "        vertical-align: top;\n",
       "    }\n",
       "\n",
       "    .dataframe thead th {\n",
       "        text-align: right;\n",
       "    }\n",
       "</style>\n",
       "<table border=\"1\" class=\"dataframe\">\n",
       "  <thead>\n",
       "    <tr style=\"text-align: right;\">\n",
       "      <th></th>\n",
       "      <th>TARGET</th>\n",
       "      <th>CST_NR</th>\n",
       "      <th>CC_NR</th>\n",
       "      <th>DAY_OF_MONTH</th>\n",
       "      <th>DAY_OF_WEEK</th>\n",
       "      <th>TXN_TIME</th>\n",
       "      <th>TXN_SOURCE</th>\n",
       "      <th>TXN_TRM</th>\n",
       "      <th>TXN_ENTRY</th>\n",
       "      <th>TXN_AMNT</th>\n",
       "      <th>CITY</th>\n",
       "      <th>COUNTRY</th>\n",
       "      <th>MC_NAME</th>\n",
       "      <th>MC_ID</th>\n",
       "      <th>MCC_CODE</th>\n",
       "      <th>ID</th>\n",
       "    </tr>\n",
       "  </thead>\n",
       "  <tbody>\n",
       "    <tr>\n",
       "      <th>63070</th>\n",
       "      <td>1.0</td>\n",
       "      <td>6a4658dba9e82a6b659acb8ba440dd3a15daff6ffdd4c4...</td>\n",
       "      <td>8fe251b3388e2fbc5a2d40587a4a5fdb20e490ab88852b...</td>\n",
       "      <td>20.0</td>\n",
       "      <td>2.0</td>\n",
       "      <td>1449.0</td>\n",
       "      <td>O</td>\n",
       "      <td>4a1917677530762f21c3c64208a948e9ed007e3bd45e70...</td>\n",
       "      <td>12d7720f7273e2a1cfb2adf5daba868b767db6281b34b3...</td>\n",
       "      <td>110.0</td>\n",
       "      <td>8c1e38274fba4c2119fd88120b70c29cd468c6444058da...</td>\n",
       "      <td>368a2b6e4893c8ab01c18959a187dcde2ab916161f72e1...</td>\n",
       "      <td>3b77c32ebcb3c24a6947c85e057674ac75b65bd24f90b6...</td>\n",
       "      <td>b3b70340fb09803c3fa2f25d0ddc0befaf5ee38e60f684...</td>\n",
       "      <td>9bcde6cbc9021358668bc16cd3fbf6715669db89fd4570...</td>\n",
       "      <td>NaN</td>\n",
       "    </tr>\n",
       "    <tr>\n",
       "      <th>63071</th>\n",
       "      <td>1.0</td>\n",
       "      <td>6a4658dba9e82a6b659acb8ba440dd3a15daff6ffdd4c4...</td>\n",
       "      <td>8fe251b3388e2fbc5a2d40587a4a5fdb20e490ab88852b...</td>\n",
       "      <td>9.0</td>\n",
       "      <td>5.0</td>\n",
       "      <td>1021.0</td>\n",
       "      <td>O</td>\n",
       "      <td>4a1917677530762f21c3c64208a948e9ed007e3bd45e70...</td>\n",
       "      <td>12d7720f7273e2a1cfb2adf5daba868b767db6281b34b3...</td>\n",
       "      <td>110.0</td>\n",
       "      <td>8c1e38274fba4c2119fd88120b70c29cd468c6444058da...</td>\n",
       "      <td>368a2b6e4893c8ab01c18959a187dcde2ab916161f72e1...</td>\n",
       "      <td>3b77c32ebcb3c24a6947c85e057674ac75b65bd24f90b6...</td>\n",
       "      <td>b3b70340fb09803c3fa2f25d0ddc0befaf5ee38e60f684...</td>\n",
       "      <td>9bcde6cbc9021358668bc16cd3fbf6715669db89fd4570...</td>\n",
       "      <td>NaN</td>\n",
       "    </tr>\n",
       "    <tr>\n",
       "      <th>63072</th>\n",
       "      <td>1.0</td>\n",
       "      <td>6a4658dba9e82a6b659acb8ba440dd3a15daff6ffdd4c4...</td>\n",
       "      <td>8fe251b3388e2fbc5a2d40587a4a5fdb20e490ab88852b...</td>\n",
       "      <td>9.0</td>\n",
       "      <td>5.0</td>\n",
       "      <td>1414.0</td>\n",
       "      <td>O</td>\n",
       "      <td>4a1917677530762f21c3c64208a948e9ed007e3bd45e70...</td>\n",
       "      <td>12d7720f7273e2a1cfb2adf5daba868b767db6281b34b3...</td>\n",
       "      <td>110.0</td>\n",
       "      <td>8c1e38274fba4c2119fd88120b70c29cd468c6444058da...</td>\n",
       "      <td>368a2b6e4893c8ab01c18959a187dcde2ab916161f72e1...</td>\n",
       "      <td>3b77c32ebcb3c24a6947c85e057674ac75b65bd24f90b6...</td>\n",
       "      <td>b3b70340fb09803c3fa2f25d0ddc0befaf5ee38e60f684...</td>\n",
       "      <td>9bcde6cbc9021358668bc16cd3fbf6715669db89fd4570...</td>\n",
       "      <td>NaN</td>\n",
       "    </tr>\n",
       "    <tr>\n",
       "      <th>63073</th>\n",
       "      <td>1.0</td>\n",
       "      <td>6a4658dba9e82a6b659acb8ba440dd3a15daff6ffdd4c4...</td>\n",
       "      <td>8fe251b3388e2fbc5a2d40587a4a5fdb20e490ab88852b...</td>\n",
       "      <td>1.0</td>\n",
       "      <td>4.0</td>\n",
       "      <td>1445.0</td>\n",
       "      <td>O</td>\n",
       "      <td>4a1917677530762f21c3c64208a948e9ed007e3bd45e70...</td>\n",
       "      <td>12d7720f7273e2a1cfb2adf5daba868b767db6281b34b3...</td>\n",
       "      <td>110.0</td>\n",
       "      <td>8c1e38274fba4c2119fd88120b70c29cd468c6444058da...</td>\n",
       "      <td>368a2b6e4893c8ab01c18959a187dcde2ab916161f72e1...</td>\n",
       "      <td>3b77c32ebcb3c24a6947c85e057674ac75b65bd24f90b6...</td>\n",
       "      <td>b3b70340fb09803c3fa2f25d0ddc0befaf5ee38e60f684...</td>\n",
       "      <td>9bcde6cbc9021358668bc16cd3fbf6715669db89fd4570...</td>\n",
       "      <td>NaN</td>\n",
       "    </tr>\n",
       "    <tr>\n",
       "      <th>63074</th>\n",
       "      <td>1.0</td>\n",
       "      <td>6a4658dba9e82a6b659acb8ba440dd3a15daff6ffdd4c4...</td>\n",
       "      <td>8fe251b3388e2fbc5a2d40587a4a5fdb20e490ab88852b...</td>\n",
       "      <td>9.0</td>\n",
       "      <td>5.0</td>\n",
       "      <td>2348.0</td>\n",
       "      <td>O</td>\n",
       "      <td>4a1917677530762f21c3c64208a948e9ed007e3bd45e70...</td>\n",
       "      <td>12d7720f7273e2a1cfb2adf5daba868b767db6281b34b3...</td>\n",
       "      <td>110.0</td>\n",
       "      <td>8c1e38274fba4c2119fd88120b70c29cd468c6444058da...</td>\n",
       "      <td>368a2b6e4893c8ab01c18959a187dcde2ab916161f72e1...</td>\n",
       "      <td>3b77c32ebcb3c24a6947c85e057674ac75b65bd24f90b6...</td>\n",
       "      <td>b3b70340fb09803c3fa2f25d0ddc0befaf5ee38e60f684...</td>\n",
       "      <td>9bcde6cbc9021358668bc16cd3fbf6715669db89fd4570...</td>\n",
       "      <td>NaN</td>\n",
       "    </tr>\n",
       "    <tr>\n",
       "      <th>...</th>\n",
       "      <td>...</td>\n",
       "      <td>...</td>\n",
       "      <td>...</td>\n",
       "      <td>...</td>\n",
       "      <td>...</td>\n",
       "      <td>...</td>\n",
       "      <td>...</td>\n",
       "      <td>...</td>\n",
       "      <td>...</td>\n",
       "      <td>...</td>\n",
       "      <td>...</td>\n",
       "      <td>...</td>\n",
       "      <td>...</td>\n",
       "      <td>...</td>\n",
       "      <td>...</td>\n",
       "      <td>...</td>\n",
       "    </tr>\n",
       "    <tr>\n",
       "      <th>34666</th>\n",
       "      <td>NaN</td>\n",
       "      <td>6a4658dba9e82a6b659acb8ba440dd3a15daff6ffdd4c4...</td>\n",
       "      <td>8fe251b3388e2fbc5a2d40587a4a5fdb20e490ab88852b...</td>\n",
       "      <td>30.0</td>\n",
       "      <td>5.0</td>\n",
       "      <td>1413.0</td>\n",
       "      <td>O</td>\n",
       "      <td>4a1917677530762f21c3c64208a948e9ed007e3bd45e70...</td>\n",
       "      <td>12d7720f7273e2a1cfb2adf5daba868b767db6281b34b3...</td>\n",
       "      <td>110.0</td>\n",
       "      <td>8c1e38274fba4c2119fd88120b70c29cd468c6444058da...</td>\n",
       "      <td>368a2b6e4893c8ab01c18959a187dcde2ab916161f72e1...</td>\n",
       "      <td>3b77c32ebcb3c24a6947c85e057674ac75b65bd24f90b6...</td>\n",
       "      <td>b3b70340fb09803c3fa2f25d0ddc0befaf5ee38e60f684...</td>\n",
       "      <td>9bcde6cbc9021358668bc16cd3fbf6715669db89fd4570...</td>\n",
       "      <td>34666.0</td>\n",
       "    </tr>\n",
       "    <tr>\n",
       "      <th>34667</th>\n",
       "      <td>NaN</td>\n",
       "      <td>6a4658dba9e82a6b659acb8ba440dd3a15daff6ffdd4c4...</td>\n",
       "      <td>8fe251b3388e2fbc5a2d40587a4a5fdb20e490ab88852b...</td>\n",
       "      <td>30.0</td>\n",
       "      <td>5.0</td>\n",
       "      <td>2347.0</td>\n",
       "      <td>O</td>\n",
       "      <td>4a1917677530762f21c3c64208a948e9ed007e3bd45e70...</td>\n",
       "      <td>12d7720f7273e2a1cfb2adf5daba868b767db6281b34b3...</td>\n",
       "      <td>110.0</td>\n",
       "      <td>8c1e38274fba4c2119fd88120b70c29cd468c6444058da...</td>\n",
       "      <td>368a2b6e4893c8ab01c18959a187dcde2ab916161f72e1...</td>\n",
       "      <td>3b77c32ebcb3c24a6947c85e057674ac75b65bd24f90b6...</td>\n",
       "      <td>b3b70340fb09803c3fa2f25d0ddc0befaf5ee38e60f684...</td>\n",
       "      <td>9bcde6cbc9021358668bc16cd3fbf6715669db89fd4570...</td>\n",
       "      <td>34667.0</td>\n",
       "    </tr>\n",
       "    <tr>\n",
       "      <th>34668</th>\n",
       "      <td>NaN</td>\n",
       "      <td>6a4658dba9e82a6b659acb8ba440dd3a15daff6ffdd4c4...</td>\n",
       "      <td>8fe251b3388e2fbc5a2d40587a4a5fdb20e490ab88852b...</td>\n",
       "      <td>29.0</td>\n",
       "      <td>4.0</td>\n",
       "      <td>1016.0</td>\n",
       "      <td>O</td>\n",
       "      <td>4a1917677530762f21c3c64208a948e9ed007e3bd45e70...</td>\n",
       "      <td>12d7720f7273e2a1cfb2adf5daba868b767db6281b34b3...</td>\n",
       "      <td>110.0</td>\n",
       "      <td>8c1e38274fba4c2119fd88120b70c29cd468c6444058da...</td>\n",
       "      <td>368a2b6e4893c8ab01c18959a187dcde2ab916161f72e1...</td>\n",
       "      <td>3b77c32ebcb3c24a6947c85e057674ac75b65bd24f90b6...</td>\n",
       "      <td>b3b70340fb09803c3fa2f25d0ddc0befaf5ee38e60f684...</td>\n",
       "      <td>9bcde6cbc9021358668bc16cd3fbf6715669db89fd4570...</td>\n",
       "      <td>34668.0</td>\n",
       "    </tr>\n",
       "    <tr>\n",
       "      <th>34669</th>\n",
       "      <td>NaN</td>\n",
       "      <td>6a4658dba9e82a6b659acb8ba440dd3a15daff6ffdd4c4...</td>\n",
       "      <td>8fe251b3388e2fbc5a2d40587a4a5fdb20e490ab88852b...</td>\n",
       "      <td>24.0</td>\n",
       "      <td>6.0</td>\n",
       "      <td>1423.0</td>\n",
       "      <td>O</td>\n",
       "      <td>4a1917677530762f21c3c64208a948e9ed007e3bd45e70...</td>\n",
       "      <td>12d7720f7273e2a1cfb2adf5daba868b767db6281b34b3...</td>\n",
       "      <td>110.0</td>\n",
       "      <td>8c1e38274fba4c2119fd88120b70c29cd468c6444058da...</td>\n",
       "      <td>368a2b6e4893c8ab01c18959a187dcde2ab916161f72e1...</td>\n",
       "      <td>3b77c32ebcb3c24a6947c85e057674ac75b65bd24f90b6...</td>\n",
       "      <td>b3b70340fb09803c3fa2f25d0ddc0befaf5ee38e60f684...</td>\n",
       "      <td>9bcde6cbc9021358668bc16cd3fbf6715669db89fd4570...</td>\n",
       "      <td>34669.0</td>\n",
       "    </tr>\n",
       "    <tr>\n",
       "      <th>34670</th>\n",
       "      <td>NaN</td>\n",
       "      <td>6a4658dba9e82a6b659acb8ba440dd3a15daff6ffdd4c4...</td>\n",
       "      <td>8fe251b3388e2fbc5a2d40587a4a5fdb20e490ab88852b...</td>\n",
       "      <td>22.0</td>\n",
       "      <td>4.0</td>\n",
       "      <td>1437.0</td>\n",
       "      <td>O</td>\n",
       "      <td>4a1917677530762f21c3c64208a948e9ed007e3bd45e70...</td>\n",
       "      <td>12d7720f7273e2a1cfb2adf5daba868b767db6281b34b3...</td>\n",
       "      <td>110.0</td>\n",
       "      <td>8c1e38274fba4c2119fd88120b70c29cd468c6444058da...</td>\n",
       "      <td>368a2b6e4893c8ab01c18959a187dcde2ab916161f72e1...</td>\n",
       "      <td>3b77c32ebcb3c24a6947c85e057674ac75b65bd24f90b6...</td>\n",
       "      <td>b3b70340fb09803c3fa2f25d0ddc0befaf5ee38e60f684...</td>\n",
       "      <td>9bcde6cbc9021358668bc16cd3fbf6715669db89fd4570...</td>\n",
       "      <td>34670.0</td>\n",
       "    </tr>\n",
       "  </tbody>\n",
       "</table>\n",
       "<p>128 rows × 16 columns</p>\n",
       "</div>"
      ],
      "text/plain": [
       "       TARGET                                             CST_NR  \\\n",
       "63070     1.0  6a4658dba9e82a6b659acb8ba440dd3a15daff6ffdd4c4...   \n",
       "63071     1.0  6a4658dba9e82a6b659acb8ba440dd3a15daff6ffdd4c4...   \n",
       "63072     1.0  6a4658dba9e82a6b659acb8ba440dd3a15daff6ffdd4c4...   \n",
       "63073     1.0  6a4658dba9e82a6b659acb8ba440dd3a15daff6ffdd4c4...   \n",
       "63074     1.0  6a4658dba9e82a6b659acb8ba440dd3a15daff6ffdd4c4...   \n",
       "...       ...                                                ...   \n",
       "34666     NaN  6a4658dba9e82a6b659acb8ba440dd3a15daff6ffdd4c4...   \n",
       "34667     NaN  6a4658dba9e82a6b659acb8ba440dd3a15daff6ffdd4c4...   \n",
       "34668     NaN  6a4658dba9e82a6b659acb8ba440dd3a15daff6ffdd4c4...   \n",
       "34669     NaN  6a4658dba9e82a6b659acb8ba440dd3a15daff6ffdd4c4...   \n",
       "34670     NaN  6a4658dba9e82a6b659acb8ba440dd3a15daff6ffdd4c4...   \n",
       "\n",
       "                                                   CC_NR  DAY_OF_MONTH  \\\n",
       "63070  8fe251b3388e2fbc5a2d40587a4a5fdb20e490ab88852b...          20.0   \n",
       "63071  8fe251b3388e2fbc5a2d40587a4a5fdb20e490ab88852b...           9.0   \n",
       "63072  8fe251b3388e2fbc5a2d40587a4a5fdb20e490ab88852b...           9.0   \n",
       "63073  8fe251b3388e2fbc5a2d40587a4a5fdb20e490ab88852b...           1.0   \n",
       "63074  8fe251b3388e2fbc5a2d40587a4a5fdb20e490ab88852b...           9.0   \n",
       "...                                                  ...           ...   \n",
       "34666  8fe251b3388e2fbc5a2d40587a4a5fdb20e490ab88852b...          30.0   \n",
       "34667  8fe251b3388e2fbc5a2d40587a4a5fdb20e490ab88852b...          30.0   \n",
       "34668  8fe251b3388e2fbc5a2d40587a4a5fdb20e490ab88852b...          29.0   \n",
       "34669  8fe251b3388e2fbc5a2d40587a4a5fdb20e490ab88852b...          24.0   \n",
       "34670  8fe251b3388e2fbc5a2d40587a4a5fdb20e490ab88852b...          22.0   \n",
       "\n",
       "       DAY_OF_WEEK  TXN_TIME TXN_SOURCE  \\\n",
       "63070          2.0    1449.0          O   \n",
       "63071          5.0    1021.0          O   \n",
       "63072          5.0    1414.0          O   \n",
       "63073          4.0    1445.0          O   \n",
       "63074          5.0    2348.0          O   \n",
       "...            ...       ...        ...   \n",
       "34666          5.0    1413.0          O   \n",
       "34667          5.0    2347.0          O   \n",
       "34668          4.0    1016.0          O   \n",
       "34669          6.0    1423.0          O   \n",
       "34670          4.0    1437.0          O   \n",
       "\n",
       "                                                 TXN_TRM  \\\n",
       "63070  4a1917677530762f21c3c64208a948e9ed007e3bd45e70...   \n",
       "63071  4a1917677530762f21c3c64208a948e9ed007e3bd45e70...   \n",
       "63072  4a1917677530762f21c3c64208a948e9ed007e3bd45e70...   \n",
       "63073  4a1917677530762f21c3c64208a948e9ed007e3bd45e70...   \n",
       "63074  4a1917677530762f21c3c64208a948e9ed007e3bd45e70...   \n",
       "...                                                  ...   \n",
       "34666  4a1917677530762f21c3c64208a948e9ed007e3bd45e70...   \n",
       "34667  4a1917677530762f21c3c64208a948e9ed007e3bd45e70...   \n",
       "34668  4a1917677530762f21c3c64208a948e9ed007e3bd45e70...   \n",
       "34669  4a1917677530762f21c3c64208a948e9ed007e3bd45e70...   \n",
       "34670  4a1917677530762f21c3c64208a948e9ed007e3bd45e70...   \n",
       "\n",
       "                                               TXN_ENTRY  TXN_AMNT  \\\n",
       "63070  12d7720f7273e2a1cfb2adf5daba868b767db6281b34b3...     110.0   \n",
       "63071  12d7720f7273e2a1cfb2adf5daba868b767db6281b34b3...     110.0   \n",
       "63072  12d7720f7273e2a1cfb2adf5daba868b767db6281b34b3...     110.0   \n",
       "63073  12d7720f7273e2a1cfb2adf5daba868b767db6281b34b3...     110.0   \n",
       "63074  12d7720f7273e2a1cfb2adf5daba868b767db6281b34b3...     110.0   \n",
       "...                                                  ...       ...   \n",
       "34666  12d7720f7273e2a1cfb2adf5daba868b767db6281b34b3...     110.0   \n",
       "34667  12d7720f7273e2a1cfb2adf5daba868b767db6281b34b3...     110.0   \n",
       "34668  12d7720f7273e2a1cfb2adf5daba868b767db6281b34b3...     110.0   \n",
       "34669  12d7720f7273e2a1cfb2adf5daba868b767db6281b34b3...     110.0   \n",
       "34670  12d7720f7273e2a1cfb2adf5daba868b767db6281b34b3...     110.0   \n",
       "\n",
       "                                                    CITY  \\\n",
       "63070  8c1e38274fba4c2119fd88120b70c29cd468c6444058da...   \n",
       "63071  8c1e38274fba4c2119fd88120b70c29cd468c6444058da...   \n",
       "63072  8c1e38274fba4c2119fd88120b70c29cd468c6444058da...   \n",
       "63073  8c1e38274fba4c2119fd88120b70c29cd468c6444058da...   \n",
       "63074  8c1e38274fba4c2119fd88120b70c29cd468c6444058da...   \n",
       "...                                                  ...   \n",
       "34666  8c1e38274fba4c2119fd88120b70c29cd468c6444058da...   \n",
       "34667  8c1e38274fba4c2119fd88120b70c29cd468c6444058da...   \n",
       "34668  8c1e38274fba4c2119fd88120b70c29cd468c6444058da...   \n",
       "34669  8c1e38274fba4c2119fd88120b70c29cd468c6444058da...   \n",
       "34670  8c1e38274fba4c2119fd88120b70c29cd468c6444058da...   \n",
       "\n",
       "                                                 COUNTRY  \\\n",
       "63070  368a2b6e4893c8ab01c18959a187dcde2ab916161f72e1...   \n",
       "63071  368a2b6e4893c8ab01c18959a187dcde2ab916161f72e1...   \n",
       "63072  368a2b6e4893c8ab01c18959a187dcde2ab916161f72e1...   \n",
       "63073  368a2b6e4893c8ab01c18959a187dcde2ab916161f72e1...   \n",
       "63074  368a2b6e4893c8ab01c18959a187dcde2ab916161f72e1...   \n",
       "...                                                  ...   \n",
       "34666  368a2b6e4893c8ab01c18959a187dcde2ab916161f72e1...   \n",
       "34667  368a2b6e4893c8ab01c18959a187dcde2ab916161f72e1...   \n",
       "34668  368a2b6e4893c8ab01c18959a187dcde2ab916161f72e1...   \n",
       "34669  368a2b6e4893c8ab01c18959a187dcde2ab916161f72e1...   \n",
       "34670  368a2b6e4893c8ab01c18959a187dcde2ab916161f72e1...   \n",
       "\n",
       "                                                 MC_NAME  \\\n",
       "63070  3b77c32ebcb3c24a6947c85e057674ac75b65bd24f90b6...   \n",
       "63071  3b77c32ebcb3c24a6947c85e057674ac75b65bd24f90b6...   \n",
       "63072  3b77c32ebcb3c24a6947c85e057674ac75b65bd24f90b6...   \n",
       "63073  3b77c32ebcb3c24a6947c85e057674ac75b65bd24f90b6...   \n",
       "63074  3b77c32ebcb3c24a6947c85e057674ac75b65bd24f90b6...   \n",
       "...                                                  ...   \n",
       "34666  3b77c32ebcb3c24a6947c85e057674ac75b65bd24f90b6...   \n",
       "34667  3b77c32ebcb3c24a6947c85e057674ac75b65bd24f90b6...   \n",
       "34668  3b77c32ebcb3c24a6947c85e057674ac75b65bd24f90b6...   \n",
       "34669  3b77c32ebcb3c24a6947c85e057674ac75b65bd24f90b6...   \n",
       "34670  3b77c32ebcb3c24a6947c85e057674ac75b65bd24f90b6...   \n",
       "\n",
       "                                                   MC_ID  \\\n",
       "63070  b3b70340fb09803c3fa2f25d0ddc0befaf5ee38e60f684...   \n",
       "63071  b3b70340fb09803c3fa2f25d0ddc0befaf5ee38e60f684...   \n",
       "63072  b3b70340fb09803c3fa2f25d0ddc0befaf5ee38e60f684...   \n",
       "63073  b3b70340fb09803c3fa2f25d0ddc0befaf5ee38e60f684...   \n",
       "63074  b3b70340fb09803c3fa2f25d0ddc0befaf5ee38e60f684...   \n",
       "...                                                  ...   \n",
       "34666  b3b70340fb09803c3fa2f25d0ddc0befaf5ee38e60f684...   \n",
       "34667  b3b70340fb09803c3fa2f25d0ddc0befaf5ee38e60f684...   \n",
       "34668  b3b70340fb09803c3fa2f25d0ddc0befaf5ee38e60f684...   \n",
       "34669  b3b70340fb09803c3fa2f25d0ddc0befaf5ee38e60f684...   \n",
       "34670  b3b70340fb09803c3fa2f25d0ddc0befaf5ee38e60f684...   \n",
       "\n",
       "                                                MCC_CODE       ID  \n",
       "63070  9bcde6cbc9021358668bc16cd3fbf6715669db89fd4570...      NaN  \n",
       "63071  9bcde6cbc9021358668bc16cd3fbf6715669db89fd4570...      NaN  \n",
       "63072  9bcde6cbc9021358668bc16cd3fbf6715669db89fd4570...      NaN  \n",
       "63073  9bcde6cbc9021358668bc16cd3fbf6715669db89fd4570...      NaN  \n",
       "63074  9bcde6cbc9021358668bc16cd3fbf6715669db89fd4570...      NaN  \n",
       "...                                                  ...      ...  \n",
       "34666  9bcde6cbc9021358668bc16cd3fbf6715669db89fd4570...  34666.0  \n",
       "34667  9bcde6cbc9021358668bc16cd3fbf6715669db89fd4570...  34667.0  \n",
       "34668  9bcde6cbc9021358668bc16cd3fbf6715669db89fd4570...  34668.0  \n",
       "34669  9bcde6cbc9021358668bc16cd3fbf6715669db89fd4570...  34669.0  \n",
       "34670  9bcde6cbc9021358668bc16cd3fbf6715669db89fd4570...  34670.0  \n",
       "\n",
       "[128 rows x 16 columns]"
      ]
     },
     "execution_count": 93,
     "metadata": {},
     "output_type": "execute_result"
    }
   ],
   "source": [
    "cg.loc[cg.CST_NR ==cg.loc[cg.ID == 34630].CST_NR.values[0]]"
   ]
  },
  {
   "cell_type": "code",
   "execution_count": 68,
   "id": "41cf00cc",
   "metadata": {},
   "outputs": [],
   "source": [
    "#subm.to_csv(\"fe_target_encoding_real.csv\", index = False)"
   ]
  },
  {
   "cell_type": "code",
   "execution_count": 34,
   "id": "328de51e",
   "metadata": {},
   "outputs": [],
   "source": [
    "subm.to_csv(\"target_encoding_smoottttthhh2.csv\", index = False)"
   ]
  },
  {
   "cell_type": "code",
   "execution_count": 22,
   "id": "bb772ddd",
   "metadata": {},
   "outputs": [],
   "source": [
    "subm.to_csv(\"target_encoding_smoottttthhh3.csv\", index = False)"
   ]
  }
 ],
 "metadata": {
  "kernelspec": {
   "display_name": "Python 3 (ipykernel)",
   "language": "python",
   "name": "python3"
  },
  "language_info": {
   "codemirror_mode": {
    "name": "ipython",
    "version": 3
   },
   "file_extension": ".py",
   "mimetype": "text/x-python",
   "name": "python",
   "nbconvert_exporter": "python",
   "pygments_lexer": "ipython3",
   "version": "3.9.7"
  }
 },
 "nbformat": 4,
 "nbformat_minor": 5
}
